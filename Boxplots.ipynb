{
 "cells": [
  {
   "cell_type": "code",
   "execution_count": 21,
   "metadata": {},
   "outputs": [],
   "source": [
    "import matplotlib.pyplot as plt\n",
    "import numpy as np\n",
    "import pandas as pd"
   ]
  },
  {
   "cell_type": "code",
   "execution_count": 22,
   "metadata": {},
   "outputs": [
    {
     "data": {
      "text/html": [
       "<div>\n",
       "<style scoped>\n",
       "    .dataframe tbody tr th:only-of-type {\n",
       "        vertical-align: middle;\n",
       "    }\n",
       "\n",
       "    .dataframe tbody tr th {\n",
       "        vertical-align: top;\n",
       "    }\n",
       "\n",
       "    .dataframe thead th {\n",
       "        text-align: right;\n",
       "    }\n",
       "</style>\n",
       "<table border=\"1\" class=\"dataframe\">\n",
       "  <thead>\n",
       "    <tr style=\"text-align: right;\">\n",
       "      <th></th>\n",
       "      <th>Unnamed: 0</th>\n",
       "      <th>yelp_rating</th>\n",
       "      <th>review_count</th>\n",
       "      <th>lat</th>\n",
       "      <th>lng</th>\n",
       "      <th>name 2</th>\n",
       "      <th>Population</th>\n",
       "      <th>Median Age</th>\n",
       "      <th>Household Income</th>\n",
       "      <th>Per Capita Income</th>\n",
       "      <th>...</th>\n",
       "      <th>Median Age_zscore</th>\n",
       "      <th>Household Income_zscore</th>\n",
       "      <th>Per Capita Income_zscore</th>\n",
       "      <th>Poverty Count_zscore</th>\n",
       "      <th>Unemployment_zscore</th>\n",
       "      <th>Walk Score_zscore</th>\n",
       "      <th>Bike Score_zscore</th>\n",
       "      <th>Midwest_zscore</th>\n",
       "      <th>South_zscore</th>\n",
       "      <th>West_zscore</th>\n",
       "    </tr>\n",
       "  </thead>\n",
       "  <tbody>\n",
       "    <tr>\n",
       "      <th>0</th>\n",
       "      <td>0</td>\n",
       "      <td>2.0</td>\n",
       "      <td>41</td>\n",
       "      <td>34.145200</td>\n",
       "      <td>-118.259400</td>\n",
       "      <td>1</td>\n",
       "      <td>689</td>\n",
       "      <td>35.2</td>\n",
       "      <td>159500</td>\n",
       "      <td>93135</td>\n",
       "      <td>...</td>\n",
       "      <td>-0.393561</td>\n",
       "      <td>3.151353</td>\n",
       "      <td>3.331433</td>\n",
       "      <td>-1.135391</td>\n",
       "      <td>-1.465723</td>\n",
       "      <td>1.626990</td>\n",
       "      <td>0.519497</td>\n",
       "      <td>-0.514057</td>\n",
       "      <td>-0.605302</td>\n",
       "      <td>1.370152</td>\n",
       "    </tr>\n",
       "    <tr>\n",
       "      <th>1</th>\n",
       "      <td>1</td>\n",
       "      <td>2.0</td>\n",
       "      <td>25</td>\n",
       "      <td>34.145100</td>\n",
       "      <td>-118.258900</td>\n",
       "      <td>1</td>\n",
       "      <td>689</td>\n",
       "      <td>35.2</td>\n",
       "      <td>159500</td>\n",
       "      <td>93135</td>\n",
       "      <td>...</td>\n",
       "      <td>-0.393561</td>\n",
       "      <td>3.151353</td>\n",
       "      <td>3.331433</td>\n",
       "      <td>-1.135391</td>\n",
       "      <td>-1.465723</td>\n",
       "      <td>1.514038</td>\n",
       "      <td>0.519497</td>\n",
       "      <td>-0.514057</td>\n",
       "      <td>-0.605302</td>\n",
       "      <td>1.370152</td>\n",
       "    </tr>\n",
       "    <tr>\n",
       "      <th>2</th>\n",
       "      <td>2</td>\n",
       "      <td>2.0</td>\n",
       "      <td>117</td>\n",
       "      <td>34.145146</td>\n",
       "      <td>-118.259298</td>\n",
       "      <td>0</td>\n",
       "      <td>689</td>\n",
       "      <td>35.2</td>\n",
       "      <td>159500</td>\n",
       "      <td>93135</td>\n",
       "      <td>...</td>\n",
       "      <td>-0.393561</td>\n",
       "      <td>3.151353</td>\n",
       "      <td>3.331433</td>\n",
       "      <td>-1.135391</td>\n",
       "      <td>-1.465723</td>\n",
       "      <td>1.626990</td>\n",
       "      <td>0.519497</td>\n",
       "      <td>-0.514057</td>\n",
       "      <td>-0.605302</td>\n",
       "      <td>1.370152</td>\n",
       "    </tr>\n",
       "    <tr>\n",
       "      <th>3</th>\n",
       "      <td>3</td>\n",
       "      <td>3.5</td>\n",
       "      <td>58</td>\n",
       "      <td>33.955900</td>\n",
       "      <td>-84.131800</td>\n",
       "      <td>1</td>\n",
       "      <td>67959</td>\n",
       "      <td>35.1</td>\n",
       "      <td>53514</td>\n",
       "      <td>28011</td>\n",
       "      <td>...</td>\n",
       "      <td>-0.410531</td>\n",
       "      <td>-0.660100</td>\n",
       "      <td>-0.557909</td>\n",
       "      <td>1.119075</td>\n",
       "      <td>0.876332</td>\n",
       "      <td>-0.180237</td>\n",
       "      <td>-0.524560</td>\n",
       "      <td>-0.514057</td>\n",
       "      <td>1.652068</td>\n",
       "      <td>-0.729846</td>\n",
       "    </tr>\n",
       "    <tr>\n",
       "      <th>4</th>\n",
       "      <td>4</td>\n",
       "      <td>3.0</td>\n",
       "      <td>126</td>\n",
       "      <td>33.955240</td>\n",
       "      <td>-84.131099</td>\n",
       "      <td>0</td>\n",
       "      <td>67959</td>\n",
       "      <td>35.1</td>\n",
       "      <td>53514</td>\n",
       "      <td>28011</td>\n",
       "      <td>...</td>\n",
       "      <td>-0.410531</td>\n",
       "      <td>-0.660100</td>\n",
       "      <td>-0.557909</td>\n",
       "      <td>1.119075</td>\n",
       "      <td>0.876332</td>\n",
       "      <td>-0.293188</td>\n",
       "      <td>-0.893051</td>\n",
       "      <td>-0.514057</td>\n",
       "      <td>1.652068</td>\n",
       "      <td>-0.729846</td>\n",
       "    </tr>\n",
       "  </tbody>\n",
       "</table>\n",
       "<p>5 rows × 33 columns</p>\n",
       "</div>"
      ],
      "text/plain": [
       "   Unnamed: 0  yelp_rating  review_count        lat         lng  name 2  \\\n",
       "0           0          2.0            41  34.145200 -118.259400       1   \n",
       "1           1          2.0            25  34.145100 -118.258900       1   \n",
       "2           2          2.0           117  34.145146 -118.259298       0   \n",
       "3           3          3.5            58  33.955900  -84.131800       1   \n",
       "4           4          3.0           126  33.955240  -84.131099       0   \n",
       "\n",
       "   Population  Median Age  Household Income  Per Capita Income  ...  \\\n",
       "0         689        35.2            159500              93135  ...   \n",
       "1         689        35.2            159500              93135  ...   \n",
       "2         689        35.2            159500              93135  ...   \n",
       "3       67959        35.1             53514              28011  ...   \n",
       "4       67959        35.1             53514              28011  ...   \n",
       "\n",
       "   Median Age_zscore  Household Income_zscore  Per Capita Income_zscore  \\\n",
       "0          -0.393561                 3.151353                  3.331433   \n",
       "1          -0.393561                 3.151353                  3.331433   \n",
       "2          -0.393561                 3.151353                  3.331433   \n",
       "3          -0.410531                -0.660100                 -0.557909   \n",
       "4          -0.410531                -0.660100                 -0.557909   \n",
       "\n",
       "   Poverty Count_zscore  Unemployment_zscore  Walk Score_zscore  \\\n",
       "0             -1.135391            -1.465723           1.626990   \n",
       "1             -1.135391            -1.465723           1.514038   \n",
       "2             -1.135391            -1.465723           1.626990   \n",
       "3              1.119075             0.876332          -0.180237   \n",
       "4              1.119075             0.876332          -0.293188   \n",
       "\n",
       "   Bike Score_zscore  Midwest_zscore  South_zscore  West_zscore  \n",
       "0           0.519497       -0.514057     -0.605302     1.370152  \n",
       "1           0.519497       -0.514057     -0.605302     1.370152  \n",
       "2           0.519497       -0.514057     -0.605302     1.370152  \n",
       "3          -0.524560       -0.514057      1.652068    -0.729846  \n",
       "4          -0.893051       -0.514057      1.652068    -0.729846  \n",
       "\n",
       "[5 rows x 33 columns]"
      ]
     },
     "execution_count": 22,
     "metadata": {},
     "output_type": "execute_result"
    }
   ],
   "source": [
    "master_data = pd.read_csv(\"./Z-Scores.csv\")\n",
    "master_data.head()"
   ]
  },
  {
   "cell_type": "code",
   "execution_count": 24,
   "metadata": {},
   "outputs": [
    {
     "name": "stdout",
     "output_type": "stream",
     "text": [
      "Restaurant Household Income Outliers:\n",
      "Values below 366.5 could be outliers.\n",
      "Values above 138098.5 could be outliers.\n"
     ]
    },
    {
     "data": {
      "image/png": "[encoded data removed]",
      "text/plain": [
       "<Figure size 432x288 with 1 Axes>"
      ]
     },
     "metadata": {
      "needs_background": "light"
     },
     "output_type": "display_data"
    }
   ],
   "source": [
    "# Restaurant Household Income Outliers\n",
    "\n",
    "household_income = master_data[\"Household Income\"]\n",
    "\n",
    "# Plot\n",
    "plt.boxplot(x=household_income)\n",
    "plt.xlabel(\"Restaurant\")\n",
    "plt.ylabel(\"Household Income ($)\")\n",
    "plt.title(\"Restaurant Household Income\")\n",
    "\n",
    "household_quartiles = household_income.quantile(q=[.25,.5,.75])\n",
    "\n",
    "household_lowerq = household_quartiles[0.25]\n",
    "household_upperq = household_quartiles[0.75]\n",
    "household_iqr = household_upperq - household_lowerq\n",
    "\n",
    "household_lower_bound = household_lowerq - (1.5 * household_iqr)\n",
    "household_upper_bound = household_upperq + (1.5 * household_iqr)\n",
    "\n",
    "print(f\"Restaurant Household Income Outliers:\")\n",
    "print(f\"Values below {household_lower_bound} could be outliers.\")\n",
    "print(f\"Values above {household_upper_bound} could be outliers.\")"
   ]
  },
  {
   "cell_type": "code",
   "execution_count": 44,
   "metadata": {},
   "outputs": [
    {
     "data": {
      "text/plain": [
       "60"
      ]
     },
     "execution_count": 44,
     "metadata": {},
     "output_type": "execute_result"
    }
   ],
   "source": [
    "# Restaurant Household Income Outliers by Z-Score\n",
    "household_zscore = master_data[(master_data[\"Household Income_zscore\"] > 3) | (master_data[\"Household Income_zscore\"] < -3)]\n",
    "len(household_zscore)"
   ]
  },
  {
   "cell_type": "code",
   "execution_count": 26,
   "metadata": {},
   "outputs": [
    {
     "name": "stdout",
     "output_type": "stream",
     "text": [
      "Restaurant Yelp Rating Outliers:\n",
      "Values below 1.75 could be outliers.\n",
      "Values above 3.75 could be outliers.\n"
     ]
    },
    {
     "data": {
      "image/png": "[encoded data removed]",
      "text/plain": [
       "<Figure size 432x288 with 1 Axes>"
      ]
     },
     "metadata": {
      "needs_background": "light"
     },
     "output_type": "display_data"
    }
   ],
   "source": [
    "# Restaurant Yelp Rating Outliers\n",
    "\n",
    "yelp_rating = master_data[\"yelp_rating\"]\n",
    "\n",
    "# Plot\n",
    "plt.boxplot(x=yelp_rating)\n",
    "plt.xlabel(\"Restaurant\")\n",
    "plt.ylabel(\"Yelp Rating\")\n",
    "plt.title(\"Restaurant Yelp Rating\")\n",
    "\n",
    "yelp_quartiles = yelp_rating.quantile(q=[.25,.5,.75])\n",
    "\n",
    "yelp_lowerq = yelp_quartiles[0.25]\n",
    "yelp_upperq = yelp_quartiles[0.75]\n",
    "yelp_iqr = yelp_upperq - yelp_lowerq\n",
    "\n",
    "yelp_lower_bound = yelp_lowerq - (1.5 * yelp_iqr)\n",
    "yelp_upper_bound = yelp_upperq + (1.5 * yelp_iqr)\n",
    "\n",
    "print(f\"Restaurant Yelp Rating Outliers:\")\n",
    "print(f\"Values below {yelp_lower_bound} could be outliers.\")\n",
    "print(f\"Values above {yelp_upper_bound} could be outliers.\")"
   ]
  },
  {
   "cell_type": "code",
   "execution_count": 50,
   "metadata": {},
   "outputs": [
    {
     "data": {
      "text/plain": [
       "69"
      ]
     },
     "execution_count": 50,
     "metadata": {},
     "output_type": "execute_result"
    }
   ],
   "source": [
    "# Restaurant Yelp Rating Outliers by Z-Score\n",
    "yelp_zscore = master_data[(master_data[\"yelp_rating_zscore\"] > 3) | (master_data[\"yelp_rating_zscore\"] < -3)]\n",
    "len(yelp_zscore)"
   ]
  },
  {
   "cell_type": "code",
   "execution_count": 27,
   "metadata": {},
   "outputs": [
    {
     "name": "stdout",
     "output_type": "stream",
     "text": [
      "Restaurant Population Outliers:\n",
      "Values below -8918.5 could be outliers.\n",
      "Values above 80085.5 could be outliers.\n"
     ]
    },
    {
     "data": {
      "image/png": "[encoded data removed]",
      "text/plain": [
       "<Figure size 432x288 with 1 Axes>"
      ]
     },
     "metadata": {
      "needs_background": "light"
     },
     "output_type": "display_data"
    }
   ],
   "source": [
    "# Restaurant Population Outliers\n",
    "\n",
    "population = master_data[\"Population\"]\n",
    "\n",
    "# Plot\n",
    "plt.boxplot(x=population)\n",
    "plt.xlabel(\"Restaurant\")\n",
    "plt.ylabel(\"Population Count\")\n",
    "plt.title(\"Restaurant Population\")\n",
    "\n",
    "pop_quartiles = population.quantile(q=[.25,.5,.75])\n",
    "\n",
    "pop_lowerq = pop_quartiles[0.25]\n",
    "pop_upperq = pop_quartiles[0.75]\n",
    "pop_iqr = pop_upperq - pop_lowerq\n",
    "\n",
    "pop_lower_bound = pop_lowerq - (1.5 * pop_iqr)\n",
    "pop_upper_bound = pop_upperq + (1.5 * pop_iqr)\n",
    "\n",
    "print(f\"Restaurant Population Outliers:\")\n",
    "print(f\"Values below {pop_lower_bound} could be outliers.\")\n",
    "print(f\"Values above {pop_upper_bound} could be outliers.\")"
   ]
  },
  {
   "cell_type": "code",
   "execution_count": 66,
   "metadata": {},
   "outputs": [
    {
     "data": {
      "text/plain": [
       "68"
      ]
     },
     "execution_count": 66,
     "metadata": {},
     "output_type": "execute_result"
    }
   ],
   "source": [
    "# Restaurant Population Outliers by Z-Score\n",
    "population_zscore = master_data[(master_data[\"Population_zscore\"] > 3) | (master_data[\"Population_zscore\"] < -3)]\n",
    "len(population_zscore)"
   ]
  },
  {
   "cell_type": "code",
   "execution_count": 28,
   "metadata": {},
   "outputs": [
    {
     "name": "stdout",
     "output_type": "stream",
     "text": [
      "Restaurant Median Age Outliers:\n",
      "Values below 24.050000000000008 could be outliers.\n",
      "Values above 50.849999999999994 could be outliers.\n"
     ]
    },
    {
     "data": {
      "image/png": "[encoded data removed]",
      "text/plain": [
       "<Figure size 432x288 with 1 Axes>"
      ]
     },
     "metadata": {
      "needs_background": "light"
     },
     "output_type": "display_data"
    }
   ],
   "source": [
    "# Restaurant Median Age Outliers\n",
    "\n",
    "med_age = master_data[\"Median Age\"]\n",
    "\n",
    "# Plot\n",
    "plt.boxplot(x=med_age)\n",
    "plt.xlabel(\"Restaurant\")\n",
    "plt.ylabel(\"Median Age\")\n",
    "plt.title(\"Restaurant Median Age\")\n",
    "\n",
    "age_quartiles = med_age.quantile(q=[.25,.5,.75])\n",
    "\n",
    "age_lowerq = age_quartiles[0.25]\n",
    "age_upperq = age_quartiles[0.75]\n",
    "age_iqr = age_upperq - age_lowerq\n",
    "\n",
    "age_lower_bound = age_lowerq - (1.5 * age_iqr)\n",
    "age_upper_bound = age_upperq + (1.5 * age_iqr)\n",
    "\n",
    "print(f\"Restaurant Median Age Outliers:\")\n",
    "print(f\"Values below {age_lower_bound} could be outliers.\")\n",
    "print(f\"Values above {age_upper_bound} could be outliers.\")"
   ]
  },
  {
   "cell_type": "code",
   "execution_count": 57,
   "metadata": {},
   "outputs": [
    {
     "data": {
      "text/plain": [
       "50"
      ]
     },
     "execution_count": 57,
     "metadata": {},
     "output_type": "execute_result"
    }
   ],
   "source": [
    "# Restaurant Median Age Outliers by Z-Score\n",
    "median_zscore = master_data[(master_data[\"Median Age_zscore\"] > 3) | (master_data[\"Median Age_zscore\"] < -3)]\n",
    "len(median_zscore)"
   ]
  },
  {
   "cell_type": "code",
   "execution_count": 29,
   "metadata": {},
   "outputs": [
    {
     "name": "stdout",
     "output_type": "stream",
     "text": [
      "Restaurant Poverty Count Outliers:\n",
      "Values below -4004.0 could be outliers.\n",
      "Values above 11884.0 could be outliers.\n"
     ]
    },
    {
     "data": {
      "image/png": "[encoded data removed]",
      "text/plain": [
       "<Figure size 432x288 with 1 Axes>"
      ]
     },
     "metadata": {
      "needs_background": "light"
     },
     "output_type": "display_data"
    }
   ],
   "source": [
    "# Restaurant Poverty Count Outliers\n",
    "\n",
    "poverty = master_data[\"Poverty Count\"]\n",
    "\n",
    "# Plot\n",
    "plt.boxplot(x=poverty)\n",
    "plt.xlabel(\"Restaurant\")\n",
    "plt.ylabel(\"Poverty Count\")\n",
    "plt.title(\"Restaurant Poverty Count\")\n",
    "\n",
    "poverty_quartiles = poverty.quantile(q=[.25,.5,.75])\n",
    "\n",
    "poverty_lowerq = poverty_quartiles[0.25]\n",
    "poverty_upperq = poverty_quartiles[0.75]\n",
    "poverty_iqr = poverty_upperq - poverty_lowerq\n",
    "\n",
    "poverty_lower_bound = poverty_lowerq - (1.5 * poverty_iqr)\n",
    "poverty_upper_bound = poverty_upperq + (1.5 * poverty_iqr)\n",
    "\n",
    "print(f\"Restaurant Poverty Count Outliers:\")\n",
    "print(f\"Values below {poverty_lower_bound} could be outliers.\")\n",
    "print(f\"Values above {poverty_upper_bound} could be outliers.\")"
   ]
  },
  {
   "cell_type": "code",
   "execution_count": 58,
   "metadata": {},
   "outputs": [
    {
     "data": {
      "text/plain": [
       "101"
      ]
     },
     "execution_count": 58,
     "metadata": {},
     "output_type": "execute_result"
    }
   ],
   "source": [
    "# Restaurant Poverty Count Outliers by Z-Score\n",
    "poverty_zscore = master_data[(master_data[\"Poverty Count_zscore\"] > 3) | (master_data[\"Poverty Count_zscore\"] < -3)]\n",
    "len(poverty_zscore)"
   ]
  },
  {
   "cell_type": "code",
   "execution_count": 30,
   "metadata": {},
   "outputs": [
    {
     "name": "stdout",
     "output_type": "stream",
     "text": [
      "Restaurant Unemployment Outliers:\n",
      "Values below -638.5 could be outliers.\n",
      "Values above 2581.5 could be outliers.\n"
     ]
    },
    {
     "data": {
      "image/png": "[encoded data removed]",
      "text/plain": [
       "<Figure size 432x288 with 1 Axes>"
      ]
     },
     "metadata": {
      "needs_background": "light"
     },
     "output_type": "display_data"
    }
   ],
   "source": [
    "# Restaurant Unemployment Outliers\n",
    "\n",
    "unemployment = master_data[\"Unemployment\"]\n",
    "\n",
    "# Plot\n",
    "plt.boxplot(x=unemployment)\n",
    "plt.xlabel(\"Restaurant\")\n",
    "plt.ylabel(\"Unemployment\")\n",
    "plt.title(\"Restaurant Unemployment\")\n",
    "\n",
    "unemployment_quartiles = unemployment.quantile(q=[.25,.5,.75])\n",
    "\n",
    "unemployment_lowerq = unemployment_quartiles[0.25]\n",
    "unemployment_upperq = unemployment_quartiles[0.75]\n",
    "unemployment_iqr = unemployment_upperq - unemployment_lowerq\n",
    "\n",
    "unemployment_lower_bound = unemployment_lowerq - (1.5 * unemployment_iqr)\n",
    "unemployment_upper_bound = unemployment_upperq + (1.5 * unemployment_iqr)\n",
    "\n",
    "print(f\"Restaurant Unemployment Outliers:\")\n",
    "print(f\"Values below {unemployment_lower_bound} could be outliers.\")\n",
    "print(f\"Values above {unemployment_upper_bound} could be outliers.\")"
   ]
  },
  {
   "cell_type": "code",
   "execution_count": 59,
   "metadata": {},
   "outputs": [
    {
     "data": {
      "text/plain": [
       "79"
      ]
     },
     "execution_count": 59,
     "metadata": {},
     "output_type": "execute_result"
    }
   ],
   "source": [
    "# Restaurant Unemployment Outliers by Z-Score\n",
    "unemployment_zscore = master_data[(master_data[\"Unemployment_zscore\"] > 3) | (master_data[\"Unemployment_zscore\"] < -3)]\n",
    "len(unemployment_zscore)"
   ]
  },
  {
   "cell_type": "code",
   "execution_count": 32,
   "metadata": {},
   "outputs": [
    {
     "name": "stdout",
     "output_type": "stream",
     "text": [
      "Restaurant Walkability Outliers:\n",
      "Values below 9.0 could be outliers.\n",
      "Values above 113.0 could be outliers.\n"
     ]
    },
    {
     "data": {
      "image/png": "[encoded data removed]",
      "text/plain": [
       "<Figure size 432x288 with 1 Axes>"
      ]
     },
     "metadata": {
      "needs_background": "light"
     },
     "output_type": "display_data"
    }
   ],
   "source": [
    "# Restaurant Walkability Outliers\n",
    "\n",
    "walkability = master_data[\"Walk Score\"]\n",
    "\n",
    "# Plot\n",
    "plt.boxplot(x=walkability)\n",
    "plt.xlabel(\"Restaurant\")\n",
    "plt.ylabel(\"Unemployment\")\n",
    "plt.title(\"Restaurant Unemployment\")\n",
    "\n",
    "walk_quartiles = walkability.quantile(q=[.25,.5,.75])\n",
    "\n",
    "walk_lowerq = walk_quartiles[0.25]\n",
    "walk_upperq = walk_quartiles[0.75]\n",
    "walk_iqr = walk_upperq - walk_lowerq\n",
    "\n",
    "walk_lower_bound = walk_lowerq - (1.5 * walk_iqr)\n",
    "walk_upper_bound = walk_upperq + (1.5 * walk_iqr)\n",
    "\n",
    "print(f\"Restaurant Walkability Outliers:\")\n",
    "print(f\"Values below {walk_lower_bound} could be outliers.\")\n",
    "print(f\"Values above {walk_upper_bound} could be outliers.\")"
   ]
  },
  {
   "cell_type": "code",
   "execution_count": 62,
   "metadata": {},
   "outputs": [
    {
     "data": {
      "text/plain": [
       "7"
      ]
     },
     "execution_count": 62,
     "metadata": {},
     "output_type": "execute_result"
    }
   ],
   "source": [
    "# Restaurant Walkability Outliers by Z-Score\n",
    "walkability_zscore = master_data[(master_data[\"Walk Score_zscore\"] > 3) | (master_data[\"Walk Score_zscore\"] < -3)]\n",
    "len(walkability_zscore)"
   ]
  },
  {
   "cell_type": "code",
   "execution_count": null,
   "metadata": {},
   "outputs": [],
   "source": [
    "# OLD CODE BELOW "
   ]
  },
  {
   "cell_type": "code",
   "execution_count": 5,
   "metadata": {},
   "outputs": [
    {
     "name": "stdout",
     "output_type": "stream",
     "text": [
      "Panda Express (PX) Per Capita Income Outliers:\n",
      "Values below 2283.5 could be outliers.\n",
      "Values above 62383.5 could be outliers.\n",
      "-------------------------------------------------------------------\n",
      "Chipotle Per Capita Income Outliers:\n",
      "Values below 1093.625 could be outliers.\n",
      "Values above 75434.625 could be outliers.\n",
      "-------------------------------------------------------------------\n",
      "Red Lobster Per Capita Income Outliers:\n",
      "Values below 7770.375 could be outliers.\n",
      "Values above 54671.375 could be outliers.\n"
     ]
    },
    {
     "data": {
      "image/png": "[encoded data removed]",
      "text/plain": [
       "<Figure size 432x288 with 1 Axes>"
      ]
     },
     "metadata": {
      "needs_background": "light"
     },
     "output_type": "display_data"
    }
   ],
   "source": [
    "# Restaurant Per Capita Income\n",
    "\n",
    "px_percapita_income = px_df[\"Per Capita Income\"]\n",
    "chipotle_percapita_income = chipotle_df[\"Per Capita Income\"]\n",
    "redlobster_percapita_income = redlobster_df[\"Per Capita Income\"]\n",
    "\n",
    "all_percapita_income = [px_percapita_income, chipotle_percapita_income, redlobster_percapita_income]\n",
    "\n",
    "fig, ax = plt.subplots()\n",
    "ax.boxplot(all_percapita_income, labels = [\"Panda Express\", \"Chipotle\", \"Red Lobster\"])\n",
    "plt.xlabel(\"Restaurant\")\n",
    "plt.ylabel(\"Per Capita Income ($)\")\n",
    "plt.title(\"Restaurant Per Capita Income\")\n",
    "\n",
    "\n",
    "# Determine Outliers for PX Per Capita Income\n",
    "px_percapita_quartiles = px_percapita_income.quantile(q=[.25,.5,.75])\n",
    "\n",
    "px_percapita_lowerq = px_percapita_quartiles[0.25]\n",
    "px_percapita_upperq = px_percapita_quartiles[0.75]\n",
    "px_percapita_iqr = px_percapita_upperq - px_percapita_lowerq\n",
    "\n",
    "px_percapita_lower_bound = px_percapita_lowerq - (1.5 * px_percapita_iqr)\n",
    "px_percapita_upper_bound = px_percapita_upperq + (1.5 * px_percapita_iqr)\n",
    "\n",
    "# Determine Outliers for Chipotle Per Capita Income\n",
    "chipotle_percapita_quartiles = chipotle_percapita_income.quantile(q=[.25,.5,.75])\n",
    "\n",
    "chipotle_percapita_lowerq = chipotle_percapita_quartiles[0.25]\n",
    "chipotle_percapita_upperq = chipotle_percapita_quartiles[0.75]\n",
    "chipotle_percapita_iqr = chipotle_percapita_upperq - chipotle_percapita_lowerq\n",
    "\n",
    "chipotle_percapita_lower_bound = chipotle_percapita_lowerq - (1.5 * chipotle_percapita_iqr)\n",
    "chipotle_percapita_upper_bound = chipotle_percapita_upperq + (1.5 * chipotle_percapita_iqr)\n",
    "\n",
    "# Determine Outliers for Red Lobster Per Capita Income\n",
    "redlobster_percapita_quartiles = redlobster_percapita_income.quantile(q=[.25,.5,.75])\n",
    "\n",
    "redlobster_percapita_lowerq = redlobster_percapita_quartiles[0.25]\n",
    "redlobster_percapita_upperq = redlobster_percapita_quartiles[0.75]\n",
    "redlobster_percapita_iqr = redlobster_percapita_upperq - redlobster_percapita_lowerq\n",
    "\n",
    "redlobster_percapita_lower_bound = redlobster_percapita_lowerq - (1.5 * redlobster_percapita_iqr)\n",
    "redlobster_percapita_upper_bound = redlobster_percapita_upperq + (1.5 * redlobster_percapita_iqr)\n",
    "\n",
    "\n",
    "print(f\"Panda Express (PX) Per Capita Income Outliers:\")\n",
    "print(f\"Values below {px_percapita_lower_bound} could be outliers.\")\n",
    "print(f\"Values above {px_percapita_upper_bound} could be outliers.\")\n",
    "print(\"-------------------------------------------------------------------\")\n",
    "print(f\"Chipotle Per Capita Income Outliers:\")\n",
    "print(f\"Values below {chipotle_percapita_lower_bound} could be outliers.\")\n",
    "print(f\"Values above {chipotle_percapita_upper_bound} could be outliers.\")\n",
    "print(\"-------------------------------------------------------------------\")\n",
    "print(f\"Red Lobster Per Capita Income Outliers:\")\n",
    "print(f\"Values below {redlobster_percapita_lower_bound} could be outliers.\")\n",
    "print(f\"Values above {redlobster_percapita_upper_bound} could be outliers.\")"
   ]
  },
  {
   "cell_type": "code",
   "execution_count": 6,
   "metadata": {},
   "outputs": [
    {
     "name": "stdout",
     "output_type": "stream",
     "text": [
      "Panda Express (PX) Poverty Count Outliers:\n",
      "Values below -4254.5 could be outliers.\n",
      "Values above 12981.5 could be outliers.\n",
      "-------------------------------------------------------------------\n",
      "Chipotle Poverty Count Outliers:\n",
      "Values below -3987.25 could be outliers.\n",
      "Values above 11110.75 could be outliers.\n",
      "-------------------------------------------------------------------\n",
      "Red Lobster Poverty Count Outliers:\n",
      "Values below -3892.5 could be outliers.\n",
      "Values above 12671.5 could be outliers.\n"
     ]
    },
    {
     "data": {
      "image/png": "[encoded data removed]",
      "text/plain": [
       "<Figure size 432x288 with 1 Axes>"
      ]
     },
     "metadata": {
      "needs_background": "light"
     },
     "output_type": "display_data"
    }
   ],
   "source": [
    "# Restaurant Poverty Count\n",
    "\n",
    "px_poverty_count = px_df[\"Poverty Count\"]\n",
    "chipotle_poverty_count = chipotle_df[\"Poverty Count\"]\n",
    "redlobster_poverty_count = redlobster_df[\"Poverty Count\"]\n",
    "\n",
    "all_poverty_count = [px_poverty_count, chipotle_poverty_count, redlobster_poverty_count]\n",
    "\n",
    "fig, ax = plt.subplots()\n",
    "ax.boxplot(all_poverty_count, labels = [\"Panda Express\", \"Chipotle\", \"Red Lobster\"])\n",
    "plt.xlabel(\"Restaurant\")\n",
    "plt.ylabel(\"Poverty Count\")\n",
    "plt.title(\"Restaurant Poverty Count\")\n",
    "\n",
    "# Determine Outliers for PX Poverty Count\n",
    "px_poverty_quartiles = px_poverty_count.quantile(q=[.25,.5,.75])\n",
    "\n",
    "px_poverty_lowerq = px_poverty_quartiles[0.25]\n",
    "px_poverty_upperq = px_poverty_quartiles[0.75]\n",
    "px_poverty_iqr = px_poverty_upperq - px_poverty_lowerq\n",
    "\n",
    "px_poverty_lower_bound = px_poverty_lowerq - (1.5 * px_poverty_iqr)\n",
    "px_poverty_upper_bound = px_poverty_upperq + (1.5 * px_poverty_iqr)\n",
    "\n",
    "# Determine Outliers for Chipotle Poverty Count\n",
    "chipotle_poverty_quartiles = chipotle_poverty_count.quantile(q=[.25,.5,.75])\n",
    "\n",
    "chipotle_poverty_lowerq = chipotle_poverty_quartiles[0.25]\n",
    "chipotle_poverty_upperq = chipotle_poverty_quartiles[0.75]\n",
    "chipotle_poverty_iqr = chipotle_poverty_upperq - chipotle_poverty_lowerq\n",
    "\n",
    "chipotle_poverty_lower_bound = chipotle_poverty_lowerq - (1.5 * chipotle_poverty_iqr)\n",
    "chipotle_poverty_upper_bound = chipotle_poverty_upperq + (1.5 * chipotle_poverty_iqr)\n",
    "\n",
    "# Determine Outliers for Red Lobster Poverty Count\n",
    "redlobster_poverty_quartiles = redlobster_poverty_count.quantile(q=[.25,.5,.75])\n",
    "\n",
    "redlobster_poverty_lowerq = redlobster_poverty_quartiles[0.25]\n",
    "redlobster_poverty_upperq = redlobster_poverty_quartiles[0.75]\n",
    "redlobster_poverty_iqr = redlobster_poverty_upperq - redlobster_poverty_lowerq\n",
    "\n",
    "redlobster_poverty_lower_bound = redlobster_poverty_lowerq - (1.5 * redlobster_poverty_iqr)\n",
    "redlobster_poverty_upper_bound = redlobster_poverty_upperq + (1.5 * redlobster_poverty_iqr)\n",
    "\n",
    "\n",
    "print(f\"Panda Express (PX) Poverty Count Outliers:\")\n",
    "print(f\"Values below {px_poverty_lower_bound} could be outliers.\")\n",
    "print(f\"Values above {px_poverty_upper_bound} could be outliers.\")\n",
    "print(\"-------------------------------------------------------------------\")\n",
    "print(f\"Chipotle Poverty Count Outliers:\")\n",
    "print(f\"Values below {chipotle_poverty_lower_bound} could be outliers.\")\n",
    "print(f\"Values above {chipotle_poverty_upper_bound} could be outliers.\")\n",
    "print(\"-------------------------------------------------------------------\")\n",
    "print(f\"Red Lobster Poverty Count Outliers:\")\n",
    "print(f\"Values below {redlobster_poverty_lower_bound} could be outliers.\")\n",
    "print(f\"Values above {redlobster_poverty_upper_bound} could be outliers.\")"
   ]
  },
  {
   "cell_type": "code",
   "execution_count": 7,
   "metadata": {},
   "outputs": [
    {
     "name": "stdout",
     "output_type": "stream",
     "text": [
      "Panda Express (PX) Unemployment Outliers:\n",
      "Values below -660.0 could be outliers.\n",
      "Values above 2772.0 could be outliers.\n",
      "-------------------------------------------------------------------\n",
      "Chipotle Unemployment Outliers:\n",
      "Values below -661.5 could be outliers.\n",
      "Values above 2510.5 could be outliers.\n",
      "-------------------------------------------------------------------\n",
      "Red Lobster Unemployment Outliers:\n",
      "Values below -646.0 could be outliers.\n",
      "Values above 2586.0 could be outliers.\n"
     ]
    },
    {
     "data": {
      "image/png": "[encoded data removed]",
      "text/plain": [
       "<Figure size 432x288 with 1 Axes>"
      ]
     },
     "metadata": {
      "needs_background": "light"
     },
     "output_type": "display_data"
    }
   ],
   "source": [
    "# Restaurant Unemployment\n",
    "\n",
    "px_unemployment = px_df[\"Unemployment\"]\n",
    "chipotle_unemployment = chipotle_df[\"Unemployment\"]\n",
    "redlobster_unemployment = redlobster_df[\"Unemployment\"]\n",
    "\n",
    "all_unemployment = [px_unemployment, chipotle_unemployment, redlobster_unemployment]\n",
    "\n",
    "fig, ax = plt.subplots()\n",
    "ax.boxplot(all_unemployment, labels = [\"Panda Express\", \"Chipotle\", \"Red Lobster\"])\n",
    "plt.xlabel(\"Restaurant\")\n",
    "plt.ylabel(\"Unemployment\")\n",
    "plt.title(\"Restaurant Unemployment\")\n",
    "\n",
    "\n",
    "# Determine Outliers for PX Unemployment\n",
    "px_unemployment_quartiles = px_unemployment.quantile(q=[.25,.5,.75])\n",
    "\n",
    "px_unemployment_lowerq = px_unemployment_quartiles[0.25]\n",
    "px_unemployment_upperq = px_unemployment_quartiles[0.75]\n",
    "px_unemployment_iqr = px_unemployment_upperq - px_unemployment_lowerq\n",
    "\n",
    "px_unemployment_lower_bound = px_unemployment_lowerq - (1.5 * px_unemployment_iqr)\n",
    "px_unemployment_upper_bound = px_unemployment_upperq + (1.5 * px_unemployment_iqr)\n",
    "\n",
    "# Determine Outliers for Chipotle Unemployment\n",
    "chipotle_unemployment_quartiles = chipotle_unemployment.quantile(q=[.25,.5,.75])\n",
    "\n",
    "chipotle_unemployment_lowerq = chipotle_unemployment_quartiles[0.25]\n",
    "chipotle_unemployment_upperq = chipotle_unemployment_quartiles[0.75]\n",
    "chipotle_unemployment_iqr = chipotle_unemployment_upperq - chipotle_unemployment_lowerq\n",
    "\n",
    "chipotle_unemployment_lower_bound = chipotle_unemployment_lowerq - (1.5 * chipotle_unemployment_iqr)\n",
    "chipotle_unemployment_upper_bound = chipotle_unemployment_upperq + (1.5 * chipotle_unemployment_iqr)\n",
    "\n",
    "# Determine Outliers for Red Lobster Unemployment\n",
    "redlobster_unemployment_quartiles = redlobster_unemployment.quantile(q=[.25,.5,.75])\n",
    "\n",
    "redlobster_unemployment_lowerq = redlobster_unemployment_quartiles[0.25]\n",
    "redlobster_unemployment_upperq = redlobster_unemployment_quartiles[0.75]\n",
    "redlobster_unemployment_iqr = redlobster_unemployment_upperq - redlobster_unemployment_lowerq\n",
    "\n",
    "redlobster_unemployment_lower_bound = redlobster_unemployment_lowerq - (1.5 * redlobster_unemployment_iqr)\n",
    "redlobster_unemployment_upper_bound = redlobster_unemployment_upperq + (1.5 * redlobster_unemployment_iqr)\n",
    "\n",
    "\n",
    "print(f\"Panda Express (PX) Unemployment Outliers:\")\n",
    "print(f\"Values below {px_unemployment_lower_bound} could be outliers.\")\n",
    "print(f\"Values above {px_unemployment_upper_bound} could be outliers.\")\n",
    "print(\"-------------------------------------------------------------------\")\n",
    "print(f\"Chipotle Unemployment Outliers:\")\n",
    "print(f\"Values below {chipotle_unemployment_lower_bound} could be outliers.\")\n",
    "print(f\"Values above {chipotle_unemployment_upper_bound} could be outliers.\")\n",
    "print(\"-------------------------------------------------------------------\")\n",
    "print(f\"Red Lobster Unemployment Outliers:\")\n",
    "print(f\"Values below {redlobster_unemployment_lower_bound} could be outliers.\")\n",
    "print(f\"Values above {redlobster_unemployment_upper_bound} could be outliers.\")"
   ]
  },
  {
   "cell_type": "code",
   "execution_count": null,
   "metadata": {},
   "outputs": [],
   "source": [
    "zscore_data = pd.read_csv(\"./master_dataset.csv\")\n",
    "master_data.head()"
   ]
  },
  {
   "cell_type": "code",
   "execution_count": null,
   "metadata": {},
   "outputs": [],
   "source": []
  },
  {
   "cell_type": "code",
   "execution_count": null,
   "metadata": {},
   "outputs": [],
   "source": []
  }
 ],
 "metadata": {
  "kernelspec": {
   "display_name": "Python 3",
   "language": "python",
   "name": "python3"
  },
  "language_info": {
   "codemirror_mode": {
    "name": "ipython",
    "version": 3
   },
   "file_extension": ".py",
   "mimetype": "text/x-python",
   "name": "python",
   "nbconvert_exporter": "python",
   "pygments_lexer": "ipython3",
   "version": "3.7.6"
  }
 },
 "nbformat": 4,
 "nbformat_minor": 4
}
