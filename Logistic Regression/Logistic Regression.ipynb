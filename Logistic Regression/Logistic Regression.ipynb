{
 "cells": [
  {
   "cell_type": "code",
   "execution_count": 232,
   "metadata": {},
   "outputs": [],
   "source": [
    "import pandas as pd\n",
    "import numpy as np\n",
    "import pathlib\n",
    "import seaborn as sns\n",
    "import matplotlib.pyplot as plt\n",
    "%matplotlib inline\n",
    "import math\n",
    "from pprint import pprint\n",
    "csvpath = \"master_dataset_walkscore_bikescore.csv\"\n",
    "df = pd.read_csv(csvpath)"
   ]
  },
  {
   "cell_type": "code",
   "execution_count": 233,
   "metadata": {},
   "outputs": [],
   "source": [
    "West = [\"WA\", \"OR\", \"CA\", \"NV\", \"ID\", \"UT\", \"AZ\", \"NM\", \"CO\", \"WY\", \"MT\",\"HI\",\"AK\"]\n",
    "Midwest = [\"ND\", \"SD\", \"NE\", \"KS\",\"MN\", \"IA\", \"MO\", \"WI\", \"IL\",\"IN\",\"MI\",\"OH\"]\n",
    "East = [\"ME\",\"VT\",\"NH\",\"MA\",\"NY\", \"RI\", \"CT\",\"NJ\",\"PA\",\"DE\", \"MD\",\"WV\",\"VA\"]\n",
    "South = [\"KY\",\"TN\",\"NC\",\"SC\",\"GA\",\"AL\",\"FL\",\"MS\",\"AR\",\"LA\",\"OK\",\"TX\"]"
   ]
  },
  {
   "cell_type": "code",
   "execution_count": 234,
   "metadata": {},
   "outputs": [],
   "source": [
    "df = df.drop([\"Column 1\"], axis = 1)"
   ]
  },
  {
   "cell_type": "code",
   "execution_count": 235,
   "metadata": {},
   "outputs": [],
   "source": [
    "df\n",
    "Region = pd.get_dummies(df[\"state_name 2\"], drop_first = True)\n",
    "df = pd.concat([df,Region],axis=1)"
   ]
  },
  {
   "cell_type": "code",
   "execution_count": 236,
   "metadata": {},
   "outputs": [],
   "source": [
    "new_df = df.drop([\"price_tag\",\n",
    "                  \"zip_code\", \"name\", \"storeid\",\n",
    "                  \"city_name\", \"state_name\", \"state_name 2\"],axis=1)"
   ]
  },
  {
   "cell_type": "code",
   "execution_count": 237,
   "metadata": {},
   "outputs": [
    {
     "data": {
      "text/plain": [
       "<matplotlib.axes._subplots.AxesSubplot at 0x153468c6dc8>"
      ]
     },
     "execution_count": 237,
     "metadata": {},
     "output_type": "execute_result"
    },
    {
     "data": {
      "image/png": "[encoded data removed]",
      "text/plain": [
       "<Figure size 432x288 with 1 Axes>"
      ]
     },
     "metadata": {
      "needs_background": "light"
     },
     "output_type": "display_data"
    }
   ],
   "source": [
    "sns.countplot(x=\"name\", data= df)"
   ]
  },
  {
   "cell_type": "code",
   "execution_count": 238,
   "metadata": {},
   "outputs": [
    {
     "data": {
      "text/plain": [
       "<matplotlib.axes._subplots.AxesSubplot at 0x15347a9fc88>"
      ]
     },
     "execution_count": 238,
     "metadata": {},
     "output_type": "execute_result"
    },
    {
     "data": {
      "image/png": "[encoded data removed]",
      "text/plain": [
       "<Figure size 432x288 with 1 Axes>"
      ]
     },
     "metadata": {
      "needs_background": "light"
     },
     "output_type": "display_data"
    }
   ],
   "source": [
    "df[\"Median Age\"].plot.hist()"
   ]
  },
  {
   "cell_type": "code",
   "execution_count": 239,
   "metadata": {},
   "outputs": [
    {
     "data": {
      "text/plain": [
       "<matplotlib.axes._subplots.AxesSubplot at 0x15347b27748>"
      ]
     },
     "execution_count": 239,
     "metadata": {},
     "output_type": "execute_result"
    },
    {
     "data": {
      "image/png": "[encoded data removed]",
      "text/plain": [
       "<Figure size 432x288 with 1 Axes>"
      ]
     },
     "metadata": {
      "needs_background": "light"
     },
     "output_type": "display_data"
    }
   ],
   "source": [
    "df[\"yelp_rating\"].plot.hist()"
   ]
  },
  {
   "cell_type": "code",
   "execution_count": 240,
   "metadata": {},
   "outputs": [
    {
     "data": {
      "text/plain": [
       "<matplotlib.axes._subplots.AxesSubplot at 0x15347bad488>"
      ]
     },
     "execution_count": 240,
     "metadata": {},
     "output_type": "execute_result"
    },
    {
     "data": {
      "image/png": "[encoded data removed]",
      "text/plain": [
       "<Figure size 432x288 with 1 Axes>"
      ]
     },
     "metadata": {
      "needs_background": "light"
     },
     "output_type": "display_data"
    }
   ],
   "source": [
    "sns.countplot(x=\"name\", hue=\"state_name 2\", data=df)"
   ]
  },
  {
   "cell_type": "code",
   "execution_count": 241,
   "metadata": {},
   "outputs": [
    {
     "data": {
      "text/html": [
       "<div>\n",
       "<style scoped>\n",
       "    .dataframe tbody tr th:only-of-type {\n",
       "        vertical-align: middle;\n",
       "    }\n",
       "\n",
       "    .dataframe tbody tr th {\n",
       "        vertical-align: top;\n",
       "    }\n",
       "\n",
       "    .dataframe thead th {\n",
       "        text-align: right;\n",
       "    }\n",
       "</style>\n",
       "<table border=\"1\" class=\"dataframe\">\n",
       "  <thead>\n",
       "    <tr style=\"text-align: right;\">\n",
       "      <th></th>\n",
       "      <th>yelp_rating</th>\n",
       "      <th>review_count</th>\n",
       "      <th>lat</th>\n",
       "      <th>lng</th>\n",
       "      <th>name 2</th>\n",
       "      <th>Population</th>\n",
       "      <th>Median Age</th>\n",
       "      <th>Household Income</th>\n",
       "      <th>Per Capita Income</th>\n",
       "      <th>Poverty Count</th>\n",
       "      <th>Unemployment</th>\n",
       "      <th>Walk Score</th>\n",
       "      <th>Bike Score</th>\n",
       "      <th>Midwest</th>\n",
       "      <th>South</th>\n",
       "      <th>West</th>\n",
       "    </tr>\n",
       "  </thead>\n",
       "  <tbody>\n",
       "    <tr>\n",
       "      <th>0</th>\n",
       "      <td>2.0</td>\n",
       "      <td>41.0</td>\n",
       "      <td>34.145200</td>\n",
       "      <td>-118.259400</td>\n",
       "      <td>1</td>\n",
       "      <td>689</td>\n",
       "      <td>35.2</td>\n",
       "      <td>159500</td>\n",
       "      <td>93135</td>\n",
       "      <td>188</td>\n",
       "      <td>21</td>\n",
       "      <td>90</td>\n",
       "      <td>63.0</td>\n",
       "      <td>0</td>\n",
       "      <td>0</td>\n",
       "      <td>1</td>\n",
       "    </tr>\n",
       "    <tr>\n",
       "      <th>1</th>\n",
       "      <td>2.0</td>\n",
       "      <td>25.0</td>\n",
       "      <td>34.145100</td>\n",
       "      <td>-118.258900</td>\n",
       "      <td>1</td>\n",
       "      <td>689</td>\n",
       "      <td>35.2</td>\n",
       "      <td>159500</td>\n",
       "      <td>93135</td>\n",
       "      <td>188</td>\n",
       "      <td>21</td>\n",
       "      <td>88</td>\n",
       "      <td>63.0</td>\n",
       "      <td>0</td>\n",
       "      <td>0</td>\n",
       "      <td>1</td>\n",
       "    </tr>\n",
       "    <tr>\n",
       "      <th>2</th>\n",
       "      <td>2.0</td>\n",
       "      <td>117.0</td>\n",
       "      <td>34.145146</td>\n",
       "      <td>-118.259298</td>\n",
       "      <td>0</td>\n",
       "      <td>689</td>\n",
       "      <td>35.2</td>\n",
       "      <td>159500</td>\n",
       "      <td>93135</td>\n",
       "      <td>188</td>\n",
       "      <td>21</td>\n",
       "      <td>90</td>\n",
       "      <td>63.0</td>\n",
       "      <td>0</td>\n",
       "      <td>0</td>\n",
       "      <td>1</td>\n",
       "    </tr>\n",
       "    <tr>\n",
       "      <th>3</th>\n",
       "      <td>3.5</td>\n",
       "      <td>58.0</td>\n",
       "      <td>33.955900</td>\n",
       "      <td>-84.131800</td>\n",
       "      <td>1</td>\n",
       "      <td>67959</td>\n",
       "      <td>35.1</td>\n",
       "      <td>53514</td>\n",
       "      <td>28011</td>\n",
       "      <td>8901</td>\n",
       "      <td>1677</td>\n",
       "      <td>58</td>\n",
       "      <td>46.0</td>\n",
       "      <td>0</td>\n",
       "      <td>1</td>\n",
       "      <td>0</td>\n",
       "    </tr>\n",
       "    <tr>\n",
       "      <th>4</th>\n",
       "      <td>3.0</td>\n",
       "      <td>126.0</td>\n",
       "      <td>33.955240</td>\n",
       "      <td>-84.131099</td>\n",
       "      <td>0</td>\n",
       "      <td>67959</td>\n",
       "      <td>35.1</td>\n",
       "      <td>53514</td>\n",
       "      <td>28011</td>\n",
       "      <td>8901</td>\n",
       "      <td>1677</td>\n",
       "      <td>56</td>\n",
       "      <td>40.0</td>\n",
       "      <td>0</td>\n",
       "      <td>1</td>\n",
       "      <td>0</td>\n",
       "    </tr>\n",
       "    <tr>\n",
       "      <th>...</th>\n",
       "      <td>...</td>\n",
       "      <td>...</td>\n",
       "      <td>...</td>\n",
       "      <td>...</td>\n",
       "      <td>...</td>\n",
       "      <td>...</td>\n",
       "      <td>...</td>\n",
       "      <td>...</td>\n",
       "      <td>...</td>\n",
       "      <td>...</td>\n",
       "      <td>...</td>\n",
       "      <td>...</td>\n",
       "      <td>...</td>\n",
       "      <td>...</td>\n",
       "      <td>...</td>\n",
       "      <td>...</td>\n",
       "    </tr>\n",
       "    <tr>\n",
       "      <th>5376</th>\n",
       "      <td>2.5</td>\n",
       "      <td>51.0</td>\n",
       "      <td>46.613916</td>\n",
       "      <td>-120.511168</td>\n",
       "      <td>2</td>\n",
       "      <td>32204</td>\n",
       "      <td>30.4</td>\n",
       "      <td>40437</td>\n",
       "      <td>18216</td>\n",
       "      <td>8257</td>\n",
       "      <td>852</td>\n",
       "      <td>61</td>\n",
       "      <td>54.0</td>\n",
       "      <td>0</td>\n",
       "      <td>0</td>\n",
       "      <td>1</td>\n",
       "    </tr>\n",
       "    <tr>\n",
       "      <th>5377</th>\n",
       "      <td>3.0</td>\n",
       "      <td>21.0</td>\n",
       "      <td>38.423513</td>\n",
       "      <td>-82.442233</td>\n",
       "      <td>2</td>\n",
       "      <td>20875</td>\n",
       "      <td>40.2</td>\n",
       "      <td>36022</td>\n",
       "      <td>28529</td>\n",
       "      <td>5226</td>\n",
       "      <td>498</td>\n",
       "      <td>77</td>\n",
       "      <td>80.0</td>\n",
       "      <td>0</td>\n",
       "      <td>0</td>\n",
       "      <td>0</td>\n",
       "    </tr>\n",
       "    <tr>\n",
       "      <th>5378</th>\n",
       "      <td>3.0</td>\n",
       "      <td>19.0</td>\n",
       "      <td>39.297170</td>\n",
       "      <td>-81.547218</td>\n",
       "      <td>2</td>\n",
       "      <td>30158</td>\n",
       "      <td>39.7</td>\n",
       "      <td>34259</td>\n",
       "      <td>21225</td>\n",
       "      <td>7717</td>\n",
       "      <td>1019</td>\n",
       "      <td>52</td>\n",
       "      <td>30.0</td>\n",
       "      <td>0</td>\n",
       "      <td>0</td>\n",
       "      <td>0</td>\n",
       "    </tr>\n",
       "    <tr>\n",
       "      <th>5379</th>\n",
       "      <td>2.5</td>\n",
       "      <td>74.0</td>\n",
       "      <td>42.960442</td>\n",
       "      <td>-88.008841</td>\n",
       "      <td>2</td>\n",
       "      <td>25879</td>\n",
       "      <td>41.1</td>\n",
       "      <td>53328</td>\n",
       "      <td>31331</td>\n",
       "      <td>2836</td>\n",
       "      <td>374</td>\n",
       "      <td>66</td>\n",
       "      <td>48.0</td>\n",
       "      <td>1</td>\n",
       "      <td>0</td>\n",
       "      <td>0</td>\n",
       "    </tr>\n",
       "    <tr>\n",
       "      <th>5380</th>\n",
       "      <td>2.5</td>\n",
       "      <td>19.0</td>\n",
       "      <td>42.848222</td>\n",
       "      <td>-106.258165</td>\n",
       "      <td>2</td>\n",
       "      <td>17656</td>\n",
       "      <td>37.0</td>\n",
       "      <td>65615</td>\n",
       "      <td>37099</td>\n",
       "      <td>1941</td>\n",
       "      <td>376</td>\n",
       "      <td>48</td>\n",
       "      <td>27.0</td>\n",
       "      <td>0</td>\n",
       "      <td>0</td>\n",
       "      <td>1</td>\n",
       "    </tr>\n",
       "  </tbody>\n",
       "</table>\n",
       "<p>5277 rows × 16 columns</p>\n",
       "</div>"
      ],
      "text/plain": [
       "      yelp_rating  review_count        lat         lng  name 2  Population  \\\n",
       "0             2.0          41.0  34.145200 -118.259400       1         689   \n",
       "1             2.0          25.0  34.145100 -118.258900       1         689   \n",
       "2             2.0         117.0  34.145146 -118.259298       0         689   \n",
       "3             3.5          58.0  33.955900  -84.131800       1       67959   \n",
       "4             3.0         126.0  33.955240  -84.131099       0       67959   \n",
       "...           ...           ...        ...         ...     ...         ...   \n",
       "5376          2.5          51.0  46.613916 -120.511168       2       32204   \n",
       "5377          3.0          21.0  38.423513  -82.442233       2       20875   \n",
       "5378          3.0          19.0  39.297170  -81.547218       2       30158   \n",
       "5379          2.5          74.0  42.960442  -88.008841       2       25879   \n",
       "5380          2.5          19.0  42.848222 -106.258165       2       17656   \n",
       "\n",
       "      Median Age  Household Income  Per Capita Income  Poverty Count  \\\n",
       "0           35.2            159500              93135            188   \n",
       "1           35.2            159500              93135            188   \n",
       "2           35.2            159500              93135            188   \n",
       "3           35.1             53514              28011           8901   \n",
       "4           35.1             53514              28011           8901   \n",
       "...          ...               ...                ...            ...   \n",
       "5376        30.4             40437              18216           8257   \n",
       "5377        40.2             36022              28529           5226   \n",
       "5378        39.7             34259              21225           7717   \n",
       "5379        41.1             53328              31331           2836   \n",
       "5380        37.0             65615              37099           1941   \n",
       "\n",
       "      Unemployment  Walk Score  Bike Score  Midwest  South  West  \n",
       "0               21          90        63.0        0      0     1  \n",
       "1               21          88        63.0        0      0     1  \n",
       "2               21          90        63.0        0      0     1  \n",
       "3             1677          58        46.0        0      1     0  \n",
       "4             1677          56        40.0        0      1     0  \n",
       "...            ...         ...         ...      ...    ...   ...  \n",
       "5376           852          61        54.0        0      0     1  \n",
       "5377           498          77        80.0        0      0     0  \n",
       "5378          1019          52        30.0        0      0     0  \n",
       "5379           374          66        48.0        1      0     0  \n",
       "5380           376          48        27.0        0      0     1  \n",
       "\n",
       "[5277 rows x 16 columns]"
      ]
     },
     "execution_count": 241,
     "metadata": {},
     "output_type": "execute_result"
    }
   ],
   "source": [
    "new_df2 = new_df.dropna()\n",
    "new_df2"
   ]
  },
  {
   "cell_type": "code",
   "execution_count": 242,
   "metadata": {},
   "outputs": [
    {
     "data": {
      "text/html": [
       "<div>\n",
       "<style scoped>\n",
       "    .dataframe tbody tr th:only-of-type {\n",
       "        vertical-align: middle;\n",
       "    }\n",
       "\n",
       "    .dataframe tbody tr th {\n",
       "        vertical-align: top;\n",
       "    }\n",
       "\n",
       "    .dataframe thead th {\n",
       "        text-align: right;\n",
       "    }\n",
       "</style>\n",
       "<table border=\"1\" class=\"dataframe\">\n",
       "  <thead>\n",
       "    <tr style=\"text-align: right;\">\n",
       "      <th></th>\n",
       "      <th>yelp_rating</th>\n",
       "      <th>review_count</th>\n",
       "      <th>lat</th>\n",
       "      <th>lng</th>\n",
       "      <th>Population</th>\n",
       "      <th>Median Age</th>\n",
       "      <th>Household Income</th>\n",
       "      <th>Per Capita Income</th>\n",
       "      <th>Poverty Count</th>\n",
       "      <th>Unemployment</th>\n",
       "      <th>Walk Score</th>\n",
       "      <th>Bike Score</th>\n",
       "      <th>Midwest</th>\n",
       "      <th>South</th>\n",
       "      <th>West</th>\n",
       "    </tr>\n",
       "  </thead>\n",
       "  <tbody>\n",
       "    <tr>\n",
       "      <th>0</th>\n",
       "      <td>2.0</td>\n",
       "      <td>41.0</td>\n",
       "      <td>34.145200</td>\n",
       "      <td>-118.259400</td>\n",
       "      <td>689</td>\n",
       "      <td>35.2</td>\n",
       "      <td>159500</td>\n",
       "      <td>93135</td>\n",
       "      <td>188</td>\n",
       "      <td>21</td>\n",
       "      <td>90</td>\n",
       "      <td>63.0</td>\n",
       "      <td>0</td>\n",
       "      <td>0</td>\n",
       "      <td>1</td>\n",
       "    </tr>\n",
       "    <tr>\n",
       "      <th>1</th>\n",
       "      <td>2.0</td>\n",
       "      <td>25.0</td>\n",
       "      <td>34.145100</td>\n",
       "      <td>-118.258900</td>\n",
       "      <td>689</td>\n",
       "      <td>35.2</td>\n",
       "      <td>159500</td>\n",
       "      <td>93135</td>\n",
       "      <td>188</td>\n",
       "      <td>21</td>\n",
       "      <td>88</td>\n",
       "      <td>63.0</td>\n",
       "      <td>0</td>\n",
       "      <td>0</td>\n",
       "      <td>1</td>\n",
       "    </tr>\n",
       "    <tr>\n",
       "      <th>2</th>\n",
       "      <td>2.0</td>\n",
       "      <td>117.0</td>\n",
       "      <td>34.145146</td>\n",
       "      <td>-118.259298</td>\n",
       "      <td>689</td>\n",
       "      <td>35.2</td>\n",
       "      <td>159500</td>\n",
       "      <td>93135</td>\n",
       "      <td>188</td>\n",
       "      <td>21</td>\n",
       "      <td>90</td>\n",
       "      <td>63.0</td>\n",
       "      <td>0</td>\n",
       "      <td>0</td>\n",
       "      <td>1</td>\n",
       "    </tr>\n",
       "    <tr>\n",
       "      <th>3</th>\n",
       "      <td>3.5</td>\n",
       "      <td>58.0</td>\n",
       "      <td>33.955900</td>\n",
       "      <td>-84.131800</td>\n",
       "      <td>67959</td>\n",
       "      <td>35.1</td>\n",
       "      <td>53514</td>\n",
       "      <td>28011</td>\n",
       "      <td>8901</td>\n",
       "      <td>1677</td>\n",
       "      <td>58</td>\n",
       "      <td>46.0</td>\n",
       "      <td>0</td>\n",
       "      <td>1</td>\n",
       "      <td>0</td>\n",
       "    </tr>\n",
       "    <tr>\n",
       "      <th>4</th>\n",
       "      <td>3.0</td>\n",
       "      <td>126.0</td>\n",
       "      <td>33.955240</td>\n",
       "      <td>-84.131099</td>\n",
       "      <td>67959</td>\n",
       "      <td>35.1</td>\n",
       "      <td>53514</td>\n",
       "      <td>28011</td>\n",
       "      <td>8901</td>\n",
       "      <td>1677</td>\n",
       "      <td>56</td>\n",
       "      <td>40.0</td>\n",
       "      <td>0</td>\n",
       "      <td>1</td>\n",
       "      <td>0</td>\n",
       "    </tr>\n",
       "    <tr>\n",
       "      <th>...</th>\n",
       "      <td>...</td>\n",
       "      <td>...</td>\n",
       "      <td>...</td>\n",
       "      <td>...</td>\n",
       "      <td>...</td>\n",
       "      <td>...</td>\n",
       "      <td>...</td>\n",
       "      <td>...</td>\n",
       "      <td>...</td>\n",
       "      <td>...</td>\n",
       "      <td>...</td>\n",
       "      <td>...</td>\n",
       "      <td>...</td>\n",
       "      <td>...</td>\n",
       "      <td>...</td>\n",
       "    </tr>\n",
       "    <tr>\n",
       "      <th>5376</th>\n",
       "      <td>2.5</td>\n",
       "      <td>51.0</td>\n",
       "      <td>46.613916</td>\n",
       "      <td>-120.511168</td>\n",
       "      <td>32204</td>\n",
       "      <td>30.4</td>\n",
       "      <td>40437</td>\n",
       "      <td>18216</td>\n",
       "      <td>8257</td>\n",
       "      <td>852</td>\n",
       "      <td>61</td>\n",
       "      <td>54.0</td>\n",
       "      <td>0</td>\n",
       "      <td>0</td>\n",
       "      <td>1</td>\n",
       "    </tr>\n",
       "    <tr>\n",
       "      <th>5377</th>\n",
       "      <td>3.0</td>\n",
       "      <td>21.0</td>\n",
       "      <td>38.423513</td>\n",
       "      <td>-82.442233</td>\n",
       "      <td>20875</td>\n",
       "      <td>40.2</td>\n",
       "      <td>36022</td>\n",
       "      <td>28529</td>\n",
       "      <td>5226</td>\n",
       "      <td>498</td>\n",
       "      <td>77</td>\n",
       "      <td>80.0</td>\n",
       "      <td>0</td>\n",
       "      <td>0</td>\n",
       "      <td>0</td>\n",
       "    </tr>\n",
       "    <tr>\n",
       "      <th>5378</th>\n",
       "      <td>3.0</td>\n",
       "      <td>19.0</td>\n",
       "      <td>39.297170</td>\n",
       "      <td>-81.547218</td>\n",
       "      <td>30158</td>\n",
       "      <td>39.7</td>\n",
       "      <td>34259</td>\n",
       "      <td>21225</td>\n",
       "      <td>7717</td>\n",
       "      <td>1019</td>\n",
       "      <td>52</td>\n",
       "      <td>30.0</td>\n",
       "      <td>0</td>\n",
       "      <td>0</td>\n",
       "      <td>0</td>\n",
       "    </tr>\n",
       "    <tr>\n",
       "      <th>5379</th>\n",
       "      <td>2.5</td>\n",
       "      <td>74.0</td>\n",
       "      <td>42.960442</td>\n",
       "      <td>-88.008841</td>\n",
       "      <td>25879</td>\n",
       "      <td>41.1</td>\n",
       "      <td>53328</td>\n",
       "      <td>31331</td>\n",
       "      <td>2836</td>\n",
       "      <td>374</td>\n",
       "      <td>66</td>\n",
       "      <td>48.0</td>\n",
       "      <td>1</td>\n",
       "      <td>0</td>\n",
       "      <td>0</td>\n",
       "    </tr>\n",
       "    <tr>\n",
       "      <th>5380</th>\n",
       "      <td>2.5</td>\n",
       "      <td>19.0</td>\n",
       "      <td>42.848222</td>\n",
       "      <td>-106.258165</td>\n",
       "      <td>17656</td>\n",
       "      <td>37.0</td>\n",
       "      <td>65615</td>\n",
       "      <td>37099</td>\n",
       "      <td>1941</td>\n",
       "      <td>376</td>\n",
       "      <td>48</td>\n",
       "      <td>27.0</td>\n",
       "      <td>0</td>\n",
       "      <td>0</td>\n",
       "      <td>1</td>\n",
       "    </tr>\n",
       "  </tbody>\n",
       "</table>\n",
       "<p>5277 rows × 15 columns</p>\n",
       "</div>"
      ],
      "text/plain": [
       "      yelp_rating  review_count        lat         lng  Population  \\\n",
       "0             2.0          41.0  34.145200 -118.259400         689   \n",
       "1             2.0          25.0  34.145100 -118.258900         689   \n",
       "2             2.0         117.0  34.145146 -118.259298         689   \n",
       "3             3.5          58.0  33.955900  -84.131800       67959   \n",
       "4             3.0         126.0  33.955240  -84.131099       67959   \n",
       "...           ...           ...        ...         ...         ...   \n",
       "5376          2.5          51.0  46.613916 -120.511168       32204   \n",
       "5377          3.0          21.0  38.423513  -82.442233       20875   \n",
       "5378          3.0          19.0  39.297170  -81.547218       30158   \n",
       "5379          2.5          74.0  42.960442  -88.008841       25879   \n",
       "5380          2.5          19.0  42.848222 -106.258165       17656   \n",
       "\n",
       "      Median Age  Household Income  Per Capita Income  Poverty Count  \\\n",
       "0           35.2            159500              93135            188   \n",
       "1           35.2            159500              93135            188   \n",
       "2           35.2            159500              93135            188   \n",
       "3           35.1             53514              28011           8901   \n",
       "4           35.1             53514              28011           8901   \n",
       "...          ...               ...                ...            ...   \n",
       "5376        30.4             40437              18216           8257   \n",
       "5377        40.2             36022              28529           5226   \n",
       "5378        39.7             34259              21225           7717   \n",
       "5379        41.1             53328              31331           2836   \n",
       "5380        37.0             65615              37099           1941   \n",
       "\n",
       "      Unemployment  Walk Score  Bike Score  Midwest  South  West  \n",
       "0               21          90        63.0        0      0     1  \n",
       "1               21          88        63.0        0      0     1  \n",
       "2               21          90        63.0        0      0     1  \n",
       "3             1677          58        46.0        0      1     0  \n",
       "4             1677          56        40.0        0      1     0  \n",
       "...            ...         ...         ...      ...    ...   ...  \n",
       "5376           852          61        54.0        0      0     1  \n",
       "5377           498          77        80.0        0      0     0  \n",
       "5378          1019          52        30.0        0      0     0  \n",
       "5379           374          66        48.0        1      0     0  \n",
       "5380           376          48        27.0        0      0     1  \n",
       "\n",
       "[5277 rows x 15 columns]"
      ]
     },
     "execution_count": 242,
     "metadata": {},
     "output_type": "execute_result"
    }
   ],
   "source": [
    "### Train Data\n",
    "X= new_df2.drop(\"name 2\",axis=1)\n",
    "y = new_df2[\"name 2\"]\n",
    "X"
   ]
  },
  {
   "cell_type": "code",
   "execution_count": 243,
   "metadata": {},
   "outputs": [],
   "source": [
    "from sklearn.model_selection import train_test_split"
   ]
  },
  {
   "cell_type": "code",
   "execution_count": 244,
   "metadata": {},
   "outputs": [],
   "source": [
    "X_train, X_test, y_train, y_test = train_test_split(X, y, test_size=.33)"
   ]
  },
  {
   "cell_type": "code",
   "execution_count": 245,
   "metadata": {},
   "outputs": [],
   "source": [
    "from sklearn.linear_model import LogisticRegression"
   ]
  },
  {
   "cell_type": "code",
   "execution_count": 246,
   "metadata": {},
   "outputs": [],
   "source": [
    "logmodel = LogisticRegression()"
   ]
  },
  {
   "cell_type": "code",
   "execution_count": 247,
   "metadata": {},
   "outputs": [
    {
     "name": "stderr",
     "output_type": "stream",
     "text": [
      "C:\\Users\\totor\\Anaconda3\\lib\\site-packages\\sklearn\\linear_model\\logistic.py:432: FutureWarning: Default solver will be changed to 'lbfgs' in 0.22. Specify a solver to silence this warning.\n",
      "  FutureWarning)\n",
      "C:\\Users\\totor\\Anaconda3\\lib\\site-packages\\sklearn\\linear_model\\logistic.py:469: FutureWarning: Default multi_class will be changed to 'auto' in 0.22. Specify the multi_class option to silence this warning.\n",
      "  \"this warning.\", FutureWarning)\n"
     ]
    },
    {
     "data": {
      "text/plain": [
       "LogisticRegression(C=1.0, class_weight=None, dual=False, fit_intercept=True,\n",
       "                   intercept_scaling=1, l1_ratio=None, max_iter=100,\n",
       "                   multi_class='warn', n_jobs=None, penalty='l2',\n",
       "                   random_state=None, solver='warn', tol=0.0001, verbose=0,\n",
       "                   warm_start=False)"
      ]
     },
     "execution_count": 247,
     "metadata": {},
     "output_type": "execute_result"
    }
   ],
   "source": [
    "logmodel.fit(X_train, y_train)"
   ]
  },
  {
   "cell_type": "code",
   "execution_count": 248,
   "metadata": {},
   "outputs": [],
   "source": [
    "predictions  = logmodel.predict(X_test)"
   ]
  },
  {
   "cell_type": "code",
   "execution_count": 249,
   "metadata": {},
   "outputs": [],
   "source": [
    "from sklearn.metrics import classification_report"
   ]
  },
  {
   "cell_type": "code",
   "execution_count": 250,
   "metadata": {},
   "outputs": [
    {
     "name": "stdout",
     "output_type": "stream",
     "text": [
      "('              precision    recall  f1-score   support\\n'\n",
      " '\\n'\n",
      " '           0       0.64      0.74      0.69       888\\n'\n",
      " '           1       0.62      0.66      0.64       639\\n'\n",
      " '           2       0.54      0.10      0.17       215\\n'\n",
      " '\\n'\n",
      " '    accuracy                           0.63      1742\\n'\n",
      " '   macro avg       0.60      0.50      0.50      1742\\n'\n",
      " 'weighted avg       0.62      0.63      0.60      1742\\n')\n"
     ]
    }
   ],
   "source": [
    "pprint(classification_report(y_test,predictions))"
   ]
  },
  {
   "cell_type": "code",
   "execution_count": 251,
   "metadata": {},
   "outputs": [],
   "source": [
    "from sklearn.metrics import confusion_matrix"
   ]
  },
  {
   "cell_type": "code",
   "execution_count": null,
   "metadata": {},
   "outputs": [],
   "source": []
  },
  {
   "cell_type": "code",
   "execution_count": 252,
   "metadata": {},
   "outputs": [
    {
     "data": {
      "text/plain": [
       "array([[659, 217,  12],\n",
       "       [214, 419,   6],\n",
       "       [158,  36,  21]], dtype=int64)"
      ]
     },
     "execution_count": 252,
     "metadata": {},
     "output_type": "execute_result"
    }
   ],
   "source": [
    "confusion_matrix(y_test,predictions)"
   ]
  },
  {
   "cell_type": "code",
   "execution_count": 253,
   "metadata": {},
   "outputs": [],
   "source": [
    "from sklearn.metrics import accuracy_score"
   ]
  },
  {
   "cell_type": "code",
   "execution_count": 254,
   "metadata": {},
   "outputs": [
    {
     "data": {
      "text/plain": [
       "0.6308840413318025"
      ]
     },
     "execution_count": 254,
     "metadata": {},
     "output_type": "execute_result"
    }
   ],
   "source": [
    "accuracy_score(y_test,predictions)"
   ]
  },
  {
   "cell_type": "code",
   "execution_count": 255,
   "metadata": {},
   "outputs": [],
   "source": [
    "from sklearn.utils import shuffle\n",
    "y_test_shuf = shuffle(y_test)"
   ]
  },
  {
   "cell_type": "code",
   "execution_count": 256,
   "metadata": {},
   "outputs": [
    {
     "data": {
      "text/plain": [
       "0.447187141216992"
      ]
     },
     "execution_count": 256,
     "metadata": {},
     "output_type": "execute_result"
    }
   ],
   "source": [
    "accuracy_score(y_test_shuf,predictions)"
   ]
  },
  {
   "cell_type": "code",
   "execution_count": 257,
   "metadata": {},
   "outputs": [
    {
     "data": {
      "text/plain": [
       "array([[ 3.39090250e-03,  5.45554204e-03,  2.39510011e-02,\n",
       "         3.84429691e-02, -9.97507668e-06,  8.59119226e-03,\n",
       "         8.64368252e-06,  6.99918413e-06,  3.79084044e-05,\n",
       "         2.50550401e-05,  1.90905396e-02,  4.26409589e-03,\n",
       "         5.07086503e-04, -8.22636252e-04, -5.91968991e-04],\n",
       "       [-3.90847036e-02, -2.49972648e-02, -9.58670885e-02,\n",
       "        -6.67101129e-02,  2.47412710e-06, -4.26301990e-02,\n",
       "         4.12627753e-06, -5.64214357e-06, -9.63892639e-05,\n",
       "         3.55554535e-04, -6.54293472e-03, -3.31430404e-03,\n",
       "         5.58788829e-04, -1.08927926e-02,  9.60522961e-03],\n",
       "       [ 1.60664090e-02,  1.43273544e-02,  7.08232074e-02,\n",
       "         4.17472661e-02,  2.86887572e-05,  6.46584005e-02,\n",
       "        -3.62345938e-05, -1.40405288e-05, -9.40064610e-06,\n",
       "        -5.68215994e-04, -3.16140756e-02,  6.06190306e-03,\n",
       "         2.40964771e-03,  5.42625154e-03, -6.68640181e-03]])"
      ]
     },
     "execution_count": 257,
     "metadata": {},
     "output_type": "execute_result"
    }
   ],
   "source": [
    "logmodel.coef_"
   ]
  },
  {
   "cell_type": "code",
   "execution_count": 258,
   "metadata": {},
   "outputs": [
    {
     "data": {
      "text/html": [
       "<div>\n",
       "<style scoped>\n",
       "    .dataframe tbody tr th:only-of-type {\n",
       "        vertical-align: middle;\n",
       "    }\n",
       "\n",
       "    .dataframe tbody tr th {\n",
       "        vertical-align: top;\n",
       "    }\n",
       "\n",
       "    .dataframe thead th {\n",
       "        text-align: right;\n",
       "    }\n",
       "</style>\n",
       "<table border=\"1\" class=\"dataframe\">\n",
       "  <thead>\n",
       "    <tr style=\"text-align: right;\">\n",
       "      <th></th>\n",
       "      <th>yelp_rating</th>\n",
       "      <th>review_count</th>\n",
       "      <th>lat</th>\n",
       "      <th>lng</th>\n",
       "      <th>Population</th>\n",
       "      <th>Median Age</th>\n",
       "      <th>Household Income</th>\n",
       "      <th>Per Capita Income</th>\n",
       "      <th>Poverty Count</th>\n",
       "      <th>Unemployment</th>\n",
       "      <th>Walk Score</th>\n",
       "      <th>Bike Score</th>\n",
       "      <th>Midwest</th>\n",
       "      <th>South</th>\n",
       "      <th>West</th>\n",
       "    </tr>\n",
       "  </thead>\n",
       "  <tbody>\n",
       "    <tr>\n",
       "      <th>997</th>\n",
       "      <td>2.5</td>\n",
       "      <td>75.0</td>\n",
       "      <td>38.618200</td>\n",
       "      <td>-121.364800</td>\n",
       "      <td>35430</td>\n",
       "      <td>37.8</td>\n",
       "      <td>42290</td>\n",
       "      <td>27120</td>\n",
       "      <td>8526</td>\n",
       "      <td>1481</td>\n",
       "      <td>56</td>\n",
       "      <td>68.0</td>\n",
       "      <td>0</td>\n",
       "      <td>0</td>\n",
       "      <td>1</td>\n",
       "    </tr>\n",
       "    <tr>\n",
       "      <th>1026</th>\n",
       "      <td>2.0</td>\n",
       "      <td>27.0</td>\n",
       "      <td>31.497800</td>\n",
       "      <td>-97.158600</td>\n",
       "      <td>9772</td>\n",
       "      <td>31.3</td>\n",
       "      <td>40961</td>\n",
       "      <td>18342</td>\n",
       "      <td>2019</td>\n",
       "      <td>215</td>\n",
       "      <td>35</td>\n",
       "      <td>35.0</td>\n",
       "      <td>0</td>\n",
       "      <td>1</td>\n",
       "      <td>0</td>\n",
       "    </tr>\n",
       "    <tr>\n",
       "      <th>4720</th>\n",
       "      <td>2.0</td>\n",
       "      <td>97.0</td>\n",
       "      <td>39.952057</td>\n",
       "      <td>-82.998429</td>\n",
       "      <td>14440</td>\n",
       "      <td>31.0</td>\n",
       "      <td>61332</td>\n",
       "      <td>58500</td>\n",
       "      <td>2646</td>\n",
       "      <td>336</td>\n",
       "      <td>91</td>\n",
       "      <td>78.0</td>\n",
       "      <td>1</td>\n",
       "      <td>0</td>\n",
       "      <td>0</td>\n",
       "    </tr>\n",
       "    <tr>\n",
       "      <th>4362</th>\n",
       "      <td>2.5</td>\n",
       "      <td>82.0</td>\n",
       "      <td>40.496080</td>\n",
       "      <td>-74.443895</td>\n",
       "      <td>57659</td>\n",
       "      <td>22.8</td>\n",
       "      <td>42185</td>\n",
       "      <td>14928</td>\n",
       "      <td>16100</td>\n",
       "      <td>1735</td>\n",
       "      <td>98</td>\n",
       "      <td>66.0</td>\n",
       "      <td>0</td>\n",
       "      <td>0</td>\n",
       "      <td>0</td>\n",
       "    </tr>\n",
       "    <tr>\n",
       "      <th>1084</th>\n",
       "      <td>2.0</td>\n",
       "      <td>29.0</td>\n",
       "      <td>46.573900</td>\n",
       "      <td>-120.488900</td>\n",
       "      <td>46490</td>\n",
       "      <td>32.6</td>\n",
       "      <td>42379</td>\n",
       "      <td>21346</td>\n",
       "      <td>9339</td>\n",
       "      <td>1556</td>\n",
       "      <td>52</td>\n",
       "      <td>41.0</td>\n",
       "      <td>0</td>\n",
       "      <td>0</td>\n",
       "      <td>1</td>\n",
       "    </tr>\n",
       "    <tr>\n",
       "      <th>...</th>\n",
       "      <td>...</td>\n",
       "      <td>...</td>\n",
       "      <td>...</td>\n",
       "      <td>...</td>\n",
       "      <td>...</td>\n",
       "      <td>...</td>\n",
       "      <td>...</td>\n",
       "      <td>...</td>\n",
       "      <td>...</td>\n",
       "      <td>...</td>\n",
       "      <td>...</td>\n",
       "      <td>...</td>\n",
       "      <td>...</td>\n",
       "      <td>...</td>\n",
       "      <td>...</td>\n",
       "    </tr>\n",
       "    <tr>\n",
       "      <th>3797</th>\n",
       "      <td>3.0</td>\n",
       "      <td>87.0</td>\n",
       "      <td>27.958801</td>\n",
       "      <td>-82.726810</td>\n",
       "      <td>18366</td>\n",
       "      <td>44.1</td>\n",
       "      <td>51316</td>\n",
       "      <td>31852</td>\n",
       "      <td>1723</td>\n",
       "      <td>291</td>\n",
       "      <td>49</td>\n",
       "      <td>53.0</td>\n",
       "      <td>0</td>\n",
       "      <td>1</td>\n",
       "      <td>0</td>\n",
       "    </tr>\n",
       "    <tr>\n",
       "      <th>138</th>\n",
       "      <td>3.0</td>\n",
       "      <td>70.0</td>\n",
       "      <td>32.699676</td>\n",
       "      <td>-114.601838</td>\n",
       "      <td>50690</td>\n",
       "      <td>34.8</td>\n",
       "      <td>51799</td>\n",
       "      <td>26042</td>\n",
       "      <td>6450</td>\n",
       "      <td>1617</td>\n",
       "      <td>39</td>\n",
       "      <td>42.0</td>\n",
       "      <td>0</td>\n",
       "      <td>0</td>\n",
       "      <td>1</td>\n",
       "    </tr>\n",
       "    <tr>\n",
       "      <th>4293</th>\n",
       "      <td>3.0</td>\n",
       "      <td>42.0</td>\n",
       "      <td>44.973429</td>\n",
       "      <td>-93.226950</td>\n",
       "      <td>34725</td>\n",
       "      <td>22.3</td>\n",
       "      <td>37111</td>\n",
       "      <td>21907</td>\n",
       "      <td>13603</td>\n",
       "      <td>1569</td>\n",
       "      <td>79</td>\n",
       "      <td>97.0</td>\n",
       "      <td>1</td>\n",
       "      <td>0</td>\n",
       "      <td>0</td>\n",
       "    </tr>\n",
       "    <tr>\n",
       "      <th>1972</th>\n",
       "      <td>3.5</td>\n",
       "      <td>33.0</td>\n",
       "      <td>31.775300</td>\n",
       "      <td>-106.383570</td>\n",
       "      <td>39711</td>\n",
       "      <td>35.7</td>\n",
       "      <td>47840</td>\n",
       "      <td>24312</td>\n",
       "      <td>5485</td>\n",
       "      <td>1240</td>\n",
       "      <td>50</td>\n",
       "      <td>34.0</td>\n",
       "      <td>0</td>\n",
       "      <td>1</td>\n",
       "      <td>0</td>\n",
       "    </tr>\n",
       "    <tr>\n",
       "      <th>4512</th>\n",
       "      <td>2.5</td>\n",
       "      <td>63.0</td>\n",
       "      <td>40.868226</td>\n",
       "      <td>-73.024731</td>\n",
       "      <td>24992</td>\n",
       "      <td>38.3</td>\n",
       "      <td>91162</td>\n",
       "      <td>32922</td>\n",
       "      <td>1431</td>\n",
       "      <td>780</td>\n",
       "      <td>64</td>\n",
       "      <td>47.0</td>\n",
       "      <td>0</td>\n",
       "      <td>0</td>\n",
       "      <td>0</td>\n",
       "    </tr>\n",
       "  </tbody>\n",
       "</table>\n",
       "<p>3535 rows × 15 columns</p>\n",
       "</div>"
      ],
      "text/plain": [
       "      yelp_rating  review_count        lat         lng  Population  \\\n",
       "997           2.5          75.0  38.618200 -121.364800       35430   \n",
       "1026          2.0          27.0  31.497800  -97.158600        9772   \n",
       "4720          2.0          97.0  39.952057  -82.998429       14440   \n",
       "4362          2.5          82.0  40.496080  -74.443895       57659   \n",
       "1084          2.0          29.0  46.573900 -120.488900       46490   \n",
       "...           ...           ...        ...         ...         ...   \n",
       "3797          3.0          87.0  27.958801  -82.726810       18366   \n",
       "138           3.0          70.0  32.699676 -114.601838       50690   \n",
       "4293          3.0          42.0  44.973429  -93.226950       34725   \n",
       "1972          3.5          33.0  31.775300 -106.383570       39711   \n",
       "4512          2.5          63.0  40.868226  -73.024731       24992   \n",
       "\n",
       "      Median Age  Household Income  Per Capita Income  Poverty Count  \\\n",
       "997         37.8             42290              27120           8526   \n",
       "1026        31.3             40961              18342           2019   \n",
       "4720        31.0             61332              58500           2646   \n",
       "4362        22.8             42185              14928          16100   \n",
       "1084        32.6             42379              21346           9339   \n",
       "...          ...               ...                ...            ...   \n",
       "3797        44.1             51316              31852           1723   \n",
       "138         34.8             51799              26042           6450   \n",
       "4293        22.3             37111              21907          13603   \n",
       "1972        35.7             47840              24312           5485   \n",
       "4512        38.3             91162              32922           1431   \n",
       "\n",
       "      Unemployment  Walk Score  Bike Score  Midwest  South  West  \n",
       "997           1481          56        68.0        0      0     1  \n",
       "1026           215          35        35.0        0      1     0  \n",
       "4720           336          91        78.0        1      0     0  \n",
       "4362          1735          98        66.0        0      0     0  \n",
       "1084          1556          52        41.0        0      0     1  \n",
       "...            ...         ...         ...      ...    ...   ...  \n",
       "3797           291          49        53.0        0      1     0  \n",
       "138           1617          39        42.0        0      0     1  \n",
       "4293          1569          79        97.0        1      0     0  \n",
       "1972          1240          50        34.0        0      1     0  \n",
       "4512           780          64        47.0        0      0     0  \n",
       "\n",
       "[3535 rows x 15 columns]"
      ]
     },
     "execution_count": 258,
     "metadata": {},
     "output_type": "execute_result"
    }
   ],
   "source": [
    "X_train"
   ]
  },
  {
   "cell_type": "code",
   "execution_count": 259,
   "metadata": {},
   "outputs": [],
   "source": [
    "coef = logmodel.coef_"
   ]
  },
  {
   "cell_type": "code",
   "execution_count": 260,
   "metadata": {},
   "outputs": [],
   "source": [
    "panda_coef = coef[0]"
   ]
  },
  {
   "cell_type": "code",
   "execution_count": 261,
   "metadata": {},
   "outputs": [],
   "source": [
    "chipotle_coef = coef[1]"
   ]
  },
  {
   "cell_type": "code",
   "execution_count": 262,
   "metadata": {},
   "outputs": [],
   "source": [
    "red_lobster_coef =coef[2]"
   ]
  },
  {
   "cell_type": "code",
   "execution_count": 263,
   "metadata": {},
   "outputs": [],
   "source": [
    "panda_coef = pd.DataFrame(panda_coef)"
   ]
  },
  {
   "cell_type": "code",
   "execution_count": 264,
   "metadata": {},
   "outputs": [],
   "source": [
    "coef_df = pd.DataFrame(coef, columns=[\"yelp_rating\",\"review_count\",\"lat\",\"lng\",\"Population\",\n",
    "                                      \"Median Age\",\"Household Income\",\"Per Capita Income\",\"Poverty Count\",\n",
    "                                      \"Unemployment\",\"Walk Score\",\"Bike Score\",\"Midwest\",\"South\",\"West\"])"
   ]
  },
  {
   "cell_type": "code",
   "execution_count": 265,
   "metadata": {},
   "outputs": [
    {
     "data": {
      "text/html": [
       "<div>\n",
       "<style scoped>\n",
       "    .dataframe tbody tr th:only-of-type {\n",
       "        vertical-align: middle;\n",
       "    }\n",
       "\n",
       "    .dataframe tbody tr th {\n",
       "        vertical-align: top;\n",
       "    }\n",
       "\n",
       "    .dataframe thead th {\n",
       "        text-align: right;\n",
       "    }\n",
       "</style>\n",
       "<table border=\"1\" class=\"dataframe\">\n",
       "  <thead>\n",
       "    <tr style=\"text-align: right;\">\n",
       "      <th></th>\n",
       "      <th>yelp_rating</th>\n",
       "      <th>review_count</th>\n",
       "      <th>lat</th>\n",
       "      <th>lng</th>\n",
       "      <th>Population</th>\n",
       "      <th>Median Age</th>\n",
       "      <th>Household Income</th>\n",
       "      <th>Per Capita Income</th>\n",
       "      <th>Poverty Count</th>\n",
       "      <th>Unemployment</th>\n",
       "      <th>Walk Score</th>\n",
       "      <th>Bike Score</th>\n",
       "      <th>Midwest</th>\n",
       "      <th>South</th>\n",
       "      <th>West</th>\n",
       "    </tr>\n",
       "  </thead>\n",
       "  <tbody>\n",
       "    <tr>\n",
       "      <th>0</th>\n",
       "      <td>0.003391</td>\n",
       "      <td>0.005456</td>\n",
       "      <td>0.023951</td>\n",
       "      <td>0.038443</td>\n",
       "      <td>-0.000010</td>\n",
       "      <td>0.008591</td>\n",
       "      <td>0.000009</td>\n",
       "      <td>0.000007</td>\n",
       "      <td>0.000038</td>\n",
       "      <td>0.000025</td>\n",
       "      <td>0.019091</td>\n",
       "      <td>0.004264</td>\n",
       "      <td>0.000507</td>\n",
       "      <td>-0.000823</td>\n",
       "      <td>-0.000592</td>\n",
       "    </tr>\n",
       "    <tr>\n",
       "      <th>1</th>\n",
       "      <td>-0.039085</td>\n",
       "      <td>-0.024997</td>\n",
       "      <td>-0.095867</td>\n",
       "      <td>-0.066710</td>\n",
       "      <td>0.000002</td>\n",
       "      <td>-0.042630</td>\n",
       "      <td>0.000004</td>\n",
       "      <td>-0.000006</td>\n",
       "      <td>-0.000096</td>\n",
       "      <td>0.000356</td>\n",
       "      <td>-0.006543</td>\n",
       "      <td>-0.003314</td>\n",
       "      <td>0.000559</td>\n",
       "      <td>-0.010893</td>\n",
       "      <td>0.009605</td>\n",
       "    </tr>\n",
       "    <tr>\n",
       "      <th>2</th>\n",
       "      <td>0.016066</td>\n",
       "      <td>0.014327</td>\n",
       "      <td>0.070823</td>\n",
       "      <td>0.041747</td>\n",
       "      <td>0.000029</td>\n",
       "      <td>0.064658</td>\n",
       "      <td>-0.000036</td>\n",
       "      <td>-0.000014</td>\n",
       "      <td>-0.000009</td>\n",
       "      <td>-0.000568</td>\n",
       "      <td>-0.031614</td>\n",
       "      <td>0.006062</td>\n",
       "      <td>0.002410</td>\n",
       "      <td>0.005426</td>\n",
       "      <td>-0.006686</td>\n",
       "    </tr>\n",
       "  </tbody>\n",
       "</table>\n",
       "</div>"
      ],
      "text/plain": [
       "   yelp_rating  review_count       lat       lng  Population  Median Age  \\\n",
       "0     0.003391      0.005456  0.023951  0.038443   -0.000010    0.008591   \n",
       "1    -0.039085     -0.024997 -0.095867 -0.066710    0.000002   -0.042630   \n",
       "2     0.016066      0.014327  0.070823  0.041747    0.000029    0.064658   \n",
       "\n",
       "   Household Income  Per Capita Income  Poverty Count  Unemployment  \\\n",
       "0          0.000009           0.000007       0.000038      0.000025   \n",
       "1          0.000004          -0.000006      -0.000096      0.000356   \n",
       "2         -0.000036          -0.000014      -0.000009     -0.000568   \n",
       "\n",
       "   Walk Score  Bike Score   Midwest     South      West  \n",
       "0    0.019091    0.004264  0.000507 -0.000823 -0.000592  \n",
       "1   -0.006543   -0.003314  0.000559 -0.010893  0.009605  \n",
       "2   -0.031614    0.006062  0.002410  0.005426 -0.006686  "
      ]
     },
     "execution_count": 265,
     "metadata": {},
     "output_type": "execute_result"
    }
   ],
   "source": [
    "coef_df"
   ]
  },
  {
   "cell_type": "code",
   "execution_count": 266,
   "metadata": {},
   "outputs": [
    {
     "data": {
      "text/plain": [
       "0    0.038443\n",
       "1    0.009605\n",
       "2    0.070823\n",
       "dtype: float64"
      ]
     },
     "execution_count": 266,
     "metadata": {},
     "output_type": "execute_result"
    }
   ],
   "source": [
    "coef_df.max(axis=1)"
   ]
  },
  {
   "cell_type": "code",
   "execution_count": 267,
   "metadata": {},
   "outputs": [
    {
     "data": {
      "text/plain": [
       "0   -0.000823\n",
       "1   -0.095867\n",
       "2   -0.031614\n",
       "dtype: float64"
      ]
     },
     "execution_count": 267,
     "metadata": {},
     "output_type": "execute_result"
    }
   ],
   "source": [
    "coef_df.min(axis=1)"
   ]
  },
  {
   "cell_type": "code",
   "execution_count": null,
   "metadata": {},
   "outputs": [],
   "source": []
  },
  {
   "cell_type": "code",
   "execution_count": null,
   "metadata": {},
   "outputs": [],
   "source": []
  }
 ],
 "metadata": {
  "kernelspec": {
   "display_name": "Python 3",
   "language": "python",
   "name": "python3"
  },
  "language_info": {
   "codemirror_mode": {
    "name": "ipython",
    "version": 3
   },
   "file_extension": ".py",
   "mimetype": "text/x-python",
   "name": "python",
   "nbconvert_exporter": "python",
   "pygments_lexer": "ipython3",
   "version": "3.7.4"
  }
 },
 "nbformat": 4,
 "nbformat_minor": 4
}
