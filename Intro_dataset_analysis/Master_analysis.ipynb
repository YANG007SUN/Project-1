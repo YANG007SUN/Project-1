{
 "cells": [
  {
   "cell_type": "code",
   "execution_count": 64,
   "metadata": {
    "scrolled": true
   },
   "outputs": [],
   "source": [
    "# Dependencies\n",
    "import matplotlib.pyplot as plt\n",
    "import pandas as pd\n",
    "import numpy as np\n",
    "import requests\n",
    "import time\n",
    "import json\n",
    "import os\n",
    "import gmaps\n",
    "import walkscore\n",
    "import scipy.stats as st\n",
    "from scipy.stats import linregress\n",
    "from pandas import json_normalize\n",
    "\n",
    "from config import api_key\n",
    "# Census API Key\n",
    "#from config import api_key\n",
    "#c = Census(api_key, year=2013)\n"
   ]
  },
  {
   "cell_type": "code",
   "execution_count": null,
   "metadata": {},
   "outputs": [],
   "source": []
  },
  {
   "cell_type": "code",
   "execution_count": 65,
   "metadata": {},
   "outputs": [
    {
     "data": {
      "text/plain": [
       "array(['$$', '$', nan, '$$$$', '$$$'], dtype=object)"
      ]
     },
     "execution_count": 65,
     "metadata": {},
     "output_type": "execute_result"
    }
   ],
   "source": [
    "#Read in master dataset and create dataframe to work with\n",
    "csv_path=\"master_dataset.csv\"\n",
    "master_df=pd.read_csv(csv_path)\n",
    "master_df=pd.DataFrame(master_df)\n",
    "master_df['Poverty Rate(%)'] = 100 * (master_df['Poverty Count'])/(master_df['Population'])\n",
    "master_df['Unemployment Rate (%)'] = 100 * (master_df['Unemployment'])/(master_df['Population'])\n",
    "master_df['price_tag'].unique()"
   ]
  },
  {
   "cell_type": "code",
   "execution_count": 66,
   "metadata": {},
   "outputs": [
    {
     "data": {
      "text/plain": [
       "5381"
      ]
     },
     "execution_count": 66,
     "metadata": {},
     "output_type": "execute_result"
    }
   ],
   "source": [
    "xy=[]\n",
    "error=[]\n",
    "master_df['price_tag_value']=''\n",
    "for index, row in master_df.iterrows():\n",
    "    try:\n",
    "        if row['price_tag']=='$':\n",
    "            x=1\n",
    "            xy.append(x)\n",
    "        elif row['price_tag']=='$$':\n",
    "            x=2\n",
    "            xy.append(x)\n",
    "        elif row['price_tag']=='$$$':\n",
    "            x=3\n",
    "            xy.append(x) \n",
    "        elif row['price_tag']=='$$$$':\n",
    "            x=4\n",
    "            xy.append(x)\n",
    "        elif row['price_tag']=='$$$$$':\n",
    "            x=5\n",
    "            xy.append(x)\n",
    "        else:\n",
    "            x=\"\"\n",
    "            xy.append(x)\n",
    "    except IndexError as error:\n",
    "        xy.append(\"\")\n",
    "\n",
    "len(xy)\n",
    "        \n",
    "    \n",
    "\n",
    "# xy=[]\n",
    "# for index, row in hotel_df.iterrows():\n",
    "#     x=str(row['Lat']) + ', ' + str(row['Lon'])\n",
    "#     xy.append(x)"
   ]
  },
  {
   "cell_type": "code",
   "execution_count": 67,
   "metadata": {},
   "outputs": [],
   "source": [
    "master_df['price_tag_value']=xy\n",
    "master_df.head(25)\n",
    "master_df_v2=pd.DataFrame(master_df)\n",
    "master_df_v2.to_csv('master_dataset_v2.csv')"
   ]
  },
  {
   "cell_type": "code",
   "execution_count": 68,
   "metadata": {},
   "outputs": [],
   "source": [
    "#Find average yelp rating for dataset\n",
    "yelp_rat=master_df['yelp_rating']\n",
    "yelp_rat_mean=yelp_rat.mean()"
   ]
  },
  {
   "cell_type": "code",
   "execution_count": 69,
   "metadata": {},
   "outputs": [
    {
     "data": {
      "text/plain": [
       "name\n",
       "Chipotle         0.579355\n",
       "Panda Express    0.545410\n",
       "Red Lobster      0.412003\n",
       "Name: yelp_rating, dtype: float64"
      ]
     },
     "execution_count": 69,
     "metadata": {},
     "output_type": "execute_result"
    }
   ],
   "source": [
    "# Get average yelp rating by restuarant chain\n",
    "rest_rat=master_df.groupby(['name'])['yelp_rating']\n",
    "rest_rat_mean=pd.DataFrame(rest_rat.mean())\n",
    "rest_rat_med =rest_rat.median()\n",
    "rest_rat_var = rest_rat.var()\n",
    "rest_rat_std = rest_rat.std()\n",
    "rest_rat_sem = rest_rat.sem()\n",
    "rest_rat_std\n"
   ]
  },
  {
   "cell_type": "code",
   "execution_count": null,
   "metadata": {},
   "outputs": [],
   "source": [
    "#Will start by complining standard data (mean, median, std, etc...) for data set as whole before breaking into categories"
   ]
  },
  {
   "cell_type": "code",
   "execution_count": 7,
   "metadata": {},
   "outputs": [
    {
     "data": {
      "text/plain": [
       "name\n",
       "Chipotle         18852.615989\n",
       "Panda Express    14607.351187\n",
       "Red Lobster      10152.725291\n",
       "Name: Per Capita Income, dtype: float64"
      ]
     },
     "execution_count": 7,
     "metadata": {},
     "output_type": "execute_result"
    }
   ],
   "source": [
    "#Per Capita income aggreate around yelp rating\n",
    "yelp_rat_pci=master_df.groupby(['name'])['Per Capita Income']\n",
    "yelp_rat_pci_mean=pd.DataFrame(yelp_rat_pci.mean())\n",
    "yelp_rat_pci_mean\n",
    "yelp_rat_pci_med =yelp_rat_pci.median()\n",
    "yelp_rat_pci_var = yelp_rat_pci.var()\n",
    "yelp_rat_pci_std = yelp_rat_pci.std()\n",
    "yelp_rat_pci_sem = yelp_rat_pci.sem()\n",
    "yelp_rat_pci_std"
   ]
  },
  {
   "cell_type": "code",
   "execution_count": 8,
   "metadata": {},
   "outputs": [
    {
     "data": {
      "text/html": [
       "<div>\n",
       "<style scoped>\n",
       "    .dataframe tbody tr th:only-of-type {\n",
       "        vertical-align: middle;\n",
       "    }\n",
       "\n",
       "    .dataframe tbody tr th {\n",
       "        vertical-align: top;\n",
       "    }\n",
       "\n",
       "    .dataframe thead th {\n",
       "        text-align: right;\n",
       "    }\n",
       "</style>\n",
       "<table border=\"1\" class=\"dataframe\">\n",
       "  <thead>\n",
       "    <tr style=\"text-align: right;\">\n",
       "      <th></th>\n",
       "      <th>Household Income</th>\n",
       "    </tr>\n",
       "    <tr>\n",
       "      <th>name</th>\n",
       "      <th></th>\n",
       "    </tr>\n",
       "  </thead>\n",
       "  <tbody>\n",
       "    <tr>\n",
       "      <th>Chipotle</th>\n",
       "      <td>76445.525483</td>\n",
       "    </tr>\n",
       "    <tr>\n",
       "      <th>Panda Express</th>\n",
       "      <td>69038.494516</td>\n",
       "    </tr>\n",
       "    <tr>\n",
       "      <th>Red Lobster</th>\n",
       "      <td>61411.897695</td>\n",
       "    </tr>\n",
       "  </tbody>\n",
       "</table>\n",
       "</div>"
      ],
      "text/plain": [
       "               Household Income\n",
       "name                           \n",
       "Chipotle           76445.525483\n",
       "Panda Express      69038.494516\n",
       "Red Lobster        61411.897695"
      ]
     },
     "execution_count": 8,
     "metadata": {},
     "output_type": "execute_result"
    }
   ],
   "source": [
    "#Household income aggreate around yelp rating\n",
    "yelp_rat_gb=master_df.groupby(['name'])['Household Income']\n",
    "yelp_rat_house_mean=pd.DataFrame(yelp_rat_gb.mean())\n",
    "yelp_rat_house_med =yelp_rat_gb.median()\n",
    "yelp_rat_house_var = yelp_rat_gb.var()\n",
    "yelp_rat_house_std = yelp_rat_gb.std()\n",
    "yelp_rat_house_sem = yelp_rat_gb.sem()\n",
    "yelp_rat_house_mean"
   ]
  },
  {
   "cell_type": "code",
   "execution_count": 9,
   "metadata": {},
   "outputs": [
    {
     "data": {
      "text/html": [
       "<div>\n",
       "<style scoped>\n",
       "    .dataframe tbody tr th:only-of-type {\n",
       "        vertical-align: middle;\n",
       "    }\n",
       "\n",
       "    .dataframe tbody tr th {\n",
       "        vertical-align: top;\n",
       "    }\n",
       "\n",
       "    .dataframe thead th {\n",
       "        text-align: right;\n",
       "    }\n",
       "</style>\n",
       "<table border=\"1\" class=\"dataframe\">\n",
       "  <thead>\n",
       "    <tr style=\"text-align: right;\">\n",
       "      <th></th>\n",
       "      <th>Median Age</th>\n",
       "    </tr>\n",
       "    <tr>\n",
       "      <th>name</th>\n",
       "      <th></th>\n",
       "    </tr>\n",
       "  </thead>\n",
       "  <tbody>\n",
       "    <tr>\n",
       "      <th>Chipotle</th>\n",
       "      <td>37.879151</td>\n",
       "    </tr>\n",
       "    <tr>\n",
       "      <th>Panda Express</th>\n",
       "      <td>36.792322</td>\n",
       "    </tr>\n",
       "    <tr>\n",
       "      <th>Red Lobster</th>\n",
       "      <td>38.077666</td>\n",
       "    </tr>\n",
       "  </tbody>\n",
       "</table>\n",
       "</div>"
      ],
      "text/plain": [
       "               Median Age\n",
       "name                     \n",
       "Chipotle        37.879151\n",
       "Panda Express   36.792322\n",
       "Red Lobster     38.077666"
      ]
     },
     "execution_count": 9,
     "metadata": {},
     "output_type": "execute_result"
    }
   ],
   "source": [
    "#Median age aggreate around restauerant\n",
    "yelp_rat_age=master_df.groupby(['name'])['Median Age']\n",
    "yelp_rat_age_mean=pd.DataFrame(yelp_rat_age.mean())\n",
    "yelp_rat_age_med =yelp_rat_age.median()\n",
    "yelp_rat_age_var = yelp_rat_age.var()\n",
    "yelp_rat_age_std = yelp_rat_age.std()\n",
    "yelp_rat_age_sem = yelp_rat_age.sem()\n",
    "yelp_rat_age_mean"
   ]
  },
  {
   "cell_type": "code",
   "execution_count": 10,
   "metadata": {},
   "outputs": [
    {
     "data": {
      "text/html": [
       "<div>\n",
       "<style scoped>\n",
       "    .dataframe tbody tr th:only-of-type {\n",
       "        vertical-align: middle;\n",
       "    }\n",
       "\n",
       "    .dataframe tbody tr th {\n",
       "        vertical-align: top;\n",
       "    }\n",
       "\n",
       "    .dataframe thead th {\n",
       "        text-align: right;\n",
       "    }\n",
       "</style>\n",
       "<table border=\"1\" class=\"dataframe\">\n",
       "  <thead>\n",
       "    <tr style=\"text-align: right;\">\n",
       "      <th></th>\n",
       "      <th>Poverty Rate(%)</th>\n",
       "    </tr>\n",
       "    <tr>\n",
       "      <th>name</th>\n",
       "      <th></th>\n",
       "    </tr>\n",
       "  </thead>\n",
       "  <tbody>\n",
       "    <tr>\n",
       "      <th>Chipotle</th>\n",
       "      <td>11.615933</td>\n",
       "    </tr>\n",
       "    <tr>\n",
       "      <th>Panda Express</th>\n",
       "      <td>13.014313</td>\n",
       "    </tr>\n",
       "    <tr>\n",
       "      <th>Red Lobster</th>\n",
       "      <td>13.460430</td>\n",
       "    </tr>\n",
       "  </tbody>\n",
       "</table>\n",
       "</div>"
      ],
      "text/plain": [
       "               Poverty Rate(%)\n",
       "name                          \n",
       "Chipotle             11.615933\n",
       "Panda Express        13.014313\n",
       "Red Lobster          13.460430"
      ]
     },
     "execution_count": 10,
     "metadata": {},
     "output_type": "execute_result"
    }
   ],
   "source": [
    "#Poverty Rate aggreate around restauerant\n",
    "yelp_rat_pov=master_df.groupby(['name'])['Poverty Rate(%)']\n",
    "yelp_rat_pov_mean=pd.DataFrame(yelp_rat_pov.mean())\n",
    "yelp_rat_pov_med =yelp_rat_pov.median()\n",
    "yelp_rat_pov_var = yelp_rat_pov.var()\n",
    "yelp_rat_pov_std = yelp_rat_pov.std()\n",
    "yelp_rat_pov_sem = yelp_rat_pov.sem()\n",
    "yelp_rat_pov_mean"
   ]
  },
  {
   "cell_type": "code",
   "execution_count": 11,
   "metadata": {},
   "outputs": [
    {
     "data": {
      "text/html": [
       "<div>\n",
       "<style scoped>\n",
       "    .dataframe tbody tr th:only-of-type {\n",
       "        vertical-align: middle;\n",
       "    }\n",
       "\n",
       "    .dataframe tbody tr th {\n",
       "        vertical-align: top;\n",
       "    }\n",
       "\n",
       "    .dataframe thead th {\n",
       "        text-align: right;\n",
       "    }\n",
       "</style>\n",
       "<table border=\"1\" class=\"dataframe\">\n",
       "  <thead>\n",
       "    <tr style=\"text-align: right;\">\n",
       "      <th></th>\n",
       "      <th>Unemployment Rate (%)</th>\n",
       "    </tr>\n",
       "    <tr>\n",
       "      <th>name</th>\n",
       "      <th></th>\n",
       "    </tr>\n",
       "  </thead>\n",
       "  <tbody>\n",
       "    <tr>\n",
       "      <th>Chipotle</th>\n",
       "      <td>2.755859</td>\n",
       "    </tr>\n",
       "    <tr>\n",
       "      <th>Panda Express</th>\n",
       "      <td>2.906445</td>\n",
       "    </tr>\n",
       "    <tr>\n",
       "      <th>Red Lobster</th>\n",
       "      <td>2.859695</td>\n",
       "    </tr>\n",
       "  </tbody>\n",
       "</table>\n",
       "</div>"
      ],
      "text/plain": [
       "               Unemployment Rate (%)\n",
       "name                                \n",
       "Chipotle                    2.755859\n",
       "Panda Express               2.906445\n",
       "Red Lobster                 2.859695"
      ]
     },
     "execution_count": 11,
     "metadata": {},
     "output_type": "execute_result"
    }
   ],
   "source": [
    "#Unemployement Rate aggreate around restauerant\n",
    "yelp_rat_unem=master_df.groupby(['name'])['Unemployment Rate (%)']\n",
    "yelp_rat_unem_mean=pd.DataFrame(yelp_rat_unem.mean())\n",
    "yelp_rat_unem_med =yelp_rat_unem.median()\n",
    "yelp_rat_unem_var = yelp_rat_unem.var()\n",
    "yelp_rat_unem_std = yelp_rat_unem.std()\n",
    "yelp_rat_unem_sem = yelp_rat_unem.sem()\n",
    "yelp_rat_unem_mean"
   ]
  },
  {
   "cell_type": "code",
   "execution_count": 74,
   "metadata": {},
   "outputs": [],
   "source": [
    "import statsmodels.api as sm"
   ]
  },
  {
   "cell_type": "code",
   "execution_count": 77,
   "metadata": {},
   "outputs": [
    {
     "data": {
      "text/html": [
       "<table class=\"simpletable\">\n",
       "<caption>OLS Regression Results</caption>\n",
       "<tr>\n",
       "  <th>Dep. Variable:</th>       <td>yelp_rating</td>   <th>  R-squared (uncentered):</th>      <td>   0.762</td>\n",
       "</tr>\n",
       "<tr>\n",
       "  <th>Model:</th>                   <td>OLS</td>       <th>  Adj. R-squared (uncentered):</th> <td>   0.762</td>\n",
       "</tr>\n",
       "<tr>\n",
       "  <th>Method:</th>             <td>Least Squares</td>  <th>  F-statistic:       </th>          <td>   6408.</td>\n",
       "</tr>\n",
       "<tr>\n",
       "  <th>Date:</th>             <td>Wed, 13 May 2020</td> <th>  Prob (F-statistic):</th>           <td>  0.00</td> \n",
       "</tr>\n",
       "<tr>\n",
       "  <th>Time:</th>                 <td>20:37:49</td>     <th>  Log-Likelihood:    </th>          <td> -3348.5</td>\n",
       "</tr>\n",
       "<tr>\n",
       "  <th>No. Observations:</th>      <td>  1999</td>      <th>  AIC:               </th>          <td>   6699.</td>\n",
       "</tr>\n",
       "<tr>\n",
       "  <th>Df Residuals:</th>          <td>  1998</td>      <th>  BIC:               </th>          <td>   6705.</td>\n",
       "</tr>\n",
       "<tr>\n",
       "  <th>Df Model:</th>              <td>     1</td>      <th>                     </th>              <td> </td>   \n",
       "</tr>\n",
       "<tr>\n",
       "  <th>Covariance Type:</th>      <td>nonrobust</td>    <th>                     </th>              <td> </td>   \n",
       "</tr>\n",
       "</table>\n",
       "<table class=\"simpletable\">\n",
       "<tr>\n",
       "       <td></td>         <th>coef</th>     <th>std err</th>      <th>t</th>      <th>P>|t|</th>  <th>[0.025</th>    <th>0.975]</th>  \n",
       "</tr>\n",
       "<tr>\n",
       "  <th>Population</th> <td> 5.404e-05</td> <td> 6.75e-07</td> <td>   80.052</td> <td> 0.000</td> <td> 5.27e-05</td> <td> 5.54e-05</td>\n",
       "</tr>\n",
       "</table>\n",
       "<table class=\"simpletable\">\n",
       "<tr>\n",
       "  <th>Omnibus:</th>       <td>102.511</td> <th>  Durbin-Watson:     </th> <td>   1.390</td>\n",
       "</tr>\n",
       "<tr>\n",
       "  <th>Prob(Omnibus):</th> <td> 0.000</td>  <th>  Jarque-Bera (JB):  </th> <td> 150.697</td>\n",
       "</tr>\n",
       "<tr>\n",
       "  <th>Skew:</th>          <td>-0.451</td>  <th>  Prob(JB):          </th> <td>1.89e-33</td>\n",
       "</tr>\n",
       "<tr>\n",
       "  <th>Kurtosis:</th>      <td> 3.998</td>  <th>  Cond. No.          </th> <td>    1.00</td>\n",
       "</tr>\n",
       "</table><br/><br/>Warnings:<br/>[1] Standard Errors assume that the covariance matrix of the errors is correctly specified."
      ],
      "text/plain": [
       "<class 'statsmodels.iolib.summary.Summary'>\n",
       "\"\"\"\n",
       "                                 OLS Regression Results                                \n",
       "=======================================================================================\n",
       "Dep. Variable:            yelp_rating   R-squared (uncentered):                   0.762\n",
       "Model:                            OLS   Adj. R-squared (uncentered):              0.762\n",
       "Method:                 Least Squares   F-statistic:                              6408.\n",
       "Date:                Wed, 13 May 2020   Prob (F-statistic):                        0.00\n",
       "Time:                        20:37:49   Log-Likelihood:                         -3348.5\n",
       "No. Observations:                1999   AIC:                                      6699.\n",
       "Df Residuals:                    1998   BIC:                                      6705.\n",
       "Df Model:                           1                                                  \n",
       "Covariance Type:            nonrobust                                                  \n",
       "==============================================================================\n",
       "                 coef    std err          t      P>|t|      [0.025      0.975]\n",
       "------------------------------------------------------------------------------\n",
       "Population  5.404e-05   6.75e-07     80.052      0.000    5.27e-05    5.54e-05\n",
       "==============================================================================\n",
       "Omnibus:                      102.511   Durbin-Watson:                   1.390\n",
       "Prob(Omnibus):                  0.000   Jarque-Bera (JB):              150.697\n",
       "Skew:                          -0.451   Prob(JB):                     1.89e-33\n",
       "Kurtosis:                       3.998   Cond. No.                         1.00\n",
       "==============================================================================\n",
       "\n",
       "Warnings:\n",
       "[1] Standard Errors assume that the covariance matrix of the errors is correctly specified.\n",
       "\"\"\""
      ]
     },
     "execution_count": 77,
     "metadata": {},
     "output_type": "execute_result"
    }
   ],
   "source": [
    "x = pan_df[[\"Population\"]]\n",
    "y = pan_df[\"yelp_rating\"]\n",
    "model = sm.OLS(y, x).fit()\n",
    "predictions = model.predict(x)\n",
    "model.summary()"
   ]
  },
  {
   "cell_type": "code",
   "execution_count": 12,
   "metadata": {},
   "outputs": [],
   "source": [
    "# #Price tage value aggreate around yelp rating  Need to look into further if we want to use\n",
    "# yelp_rat_pt=master_df.groupby(['yelp_rating'])['price_tag_value']\n",
    "# yelp_rat_pt_mean=pd.DataFrame(yelp_rat_pt.mean())\n",
    "# yelp_rat_pt_med =yelp_rat_pt.median()\n",
    "# yelp_rat_pt_var = yelp_rat_pt.var()\n",
    "# yelp_rat_pt_std = yelp_rat_pt.std()\n",
    "# yelp_rat_pt_sem = yelp_rat_pt.sem()\n",
    "# yelp_rat_pt_mean"
   ]
  },
  {
   "cell_type": "code",
   "execution_count": 33,
   "metadata": {},
   "outputs": [
    {
     "data": {
      "text/plain": [
       "2590"
      ]
     },
     "execution_count": 33,
     "metadata": {},
     "output_type": "execute_result"
    }
   ],
   "source": [
    "#End looking at values to entire data set.  Now to split into by restaurants\n",
    "pan_df=master_df[master_df['name']=='Panda Express']\n",
    "chip_df=master_df[master_df['name']=='Chipotle']\n",
    "red_lob_df=master_df[master_df['name']=='Red Lobster']\n",
    "len(chip_df)"
   ]
  },
  {
   "cell_type": "code",
   "execution_count": 14,
   "metadata": {},
   "outputs": [
    {
     "data": {
      "text/plain": [
       "1.154298999841756"
      ]
     },
     "execution_count": 14,
     "metadata": {},
     "output_type": "execute_result"
    }
   ],
   "source": [
    "#Average values for panda restaurant chain\n",
    "pan_av_rat=pan_df['yelp_rating'].mean()\n",
    "pan_av_rat_std=pan_df['yelp_rating'].std()\n",
    "pan_av_hi=pan_df['Household Income'].mean()\n",
    "pan_av_hi_std=pan_df['Household Income'].std()\n",
    "pan_av_pci=pan_df['Per Capita Income'].mean()\n",
    "pan_av_pci_std=pan_df['Per Capita Income'].std()\n",
    "pan_av_medage=pan_df['Median Age'].mean()\n",
    "pan_av_medage_std=pan_df['Median Age'].std()\n",
    "pan_av_pov=pan_df['Poverty Rate(%)'].mean()\n",
    "pan_av_pov_std=pan_df['Poverty Rate(%)'].std()\n",
    "pan_av_unem=pan_df['Unemployment Rate (%)'].mean()\n",
    "pan_av_unem_std=pan_df['Unemployment Rate (%)'].std()\n",
    "pan_av_unem_std"
   ]
  },
  {
   "cell_type": "code",
   "execution_count": 15,
   "metadata": {},
   "outputs": [
    {
     "data": {
      "text/plain": [
       "1.0727820329828828"
      ]
     },
     "execution_count": 15,
     "metadata": {},
     "output_type": "execute_result"
    }
   ],
   "source": [
    "#Average values for chipotle restaurant chain\n",
    "chip_av_rat=chip_df['yelp_rating'].mean()\n",
    "chip_av_rat_std=chip_df['yelp_rating'].std()\n",
    "chip_av_hi=chip_df['Household Income'].mean()\n",
    "chip_av_hi_std=chip_df['Household Income'].std()\n",
    "chip_av_pci=chip_df['Per Capita Income'].mean()\n",
    "chip_av_pci_std=chip_df['Per Capita Income'].std()\n",
    "chip_av_medage=chip_df['Median Age'].mean()\n",
    "chip_av_medage_std=chip_df['Median Age'].std()\n",
    "chip_av_pov=chip_df['Poverty Rate(%)'].mean()\n",
    "chip_av_pov_std=chip_df['Poverty Rate(%)'].std()\n",
    "chip_av_unem=chip_df['Unemployment Rate (%)'].mean()\n",
    "chip_av_unem_std=chip_df['Unemployment Rate (%)'].std()\n",
    "chip_av_unem_std"
   ]
  },
  {
   "cell_type": "code",
   "execution_count": 16,
   "metadata": {},
   "outputs": [
    {
     "data": {
      "text/plain": [
       "1.0648510727078788"
      ]
     },
     "execution_count": 16,
     "metadata": {},
     "output_type": "execute_result"
    }
   ],
   "source": [
    "#Average values for red lobster restaurant chain\n",
    "red_lob_av_rat=red_lob_df['yelp_rating'].mean()\n",
    "red_lob_av_rat_std=red_lob_df['yelp_rating'].std()\n",
    "red_lob_hi=red_lob_df['Household Income'].mean()\n",
    "red_lob_hi_std=red_lob_df['Household Income'].std()\n",
    "red_lob_pci=red_lob_df['Per Capita Income'].mean()\n",
    "red_lob_pci_std=red_lob_df['Per Capita Income'].std()\n",
    "red_lob_medage=red_lob_df['Median Age'].mean()\n",
    "red_lob_medage_std=red_lob_df['Median Age'].std()\n",
    "red_lob_pov=red_lob_df['Poverty Rate(%)'].mean()\n",
    "red_lob_pov_std=red_lob_df['Poverty Rate(%)'].std()\n",
    "red_lob_unem=red_lob_df['Unemployment Rate (%)'].mean()\n",
    "red_lob_unem_std=red_lob_df['Unemployment Rate (%)'].std()\n",
    "red_lob_unem_std"
   ]
  },
  {
   "cell_type": "code",
   "execution_count": null,
   "metadata": {},
   "outputs": [],
   "source": []
  },
  {
   "cell_type": "code",
   "execution_count": 17,
   "metadata": {},
   "outputs": [],
   "source": [
    "stat_comp=pd.DataFrame(rest_rat_mean)\n",
    "stat_comp['rating_std']=rest_rat_std\n",
    "stat_comp['Mean Per Capita Income']=yelp_rat_pci_mean\n",
    "stat_comp['Per Capita Income STD']=yelp_rat_pci_std\n",
    "stat_comp['Mean Household Income']=yelp_rat_house_mean\n",
    "stat_comp['Household Income STD']=yelp_rat_house_std\n",
    "stat_comp['Mean Median Age']=yelp_rat_age_mean\n",
    "stat_comp['Median Age STD']=yelp_rat_age_std\n",
    "stat_comp['Mean Poverty Rate']=yelp_rat_pov_mean\n",
    "stat_comp['Poverty Rate STD']=yelp_rat_pov_std\n",
    "stat_comp['Mean Unemployement Rate']=yelp_rat_unem_mean\n",
    "stat_comp['Unemployement Rate STD']=yelp_rat_unem_std\n",
    "stat_comp_df=pd.DataFrame(stat_comp)\n",
    "stat_comp_df.to_csv('Aggregated Restaurant comparison.csv')\n"
   ]
  },
  {
   "cell_type": "code",
   "execution_count": 20,
   "metadata": {},
   "outputs": [
    {
     "data": {
      "text/html": [
       "<div>\n",
       "<style scoped>\n",
       "    .dataframe tbody tr th:only-of-type {\n",
       "        vertical-align: middle;\n",
       "    }\n",
       "\n",
       "    .dataframe tbody tr th {\n",
       "        vertical-align: top;\n",
       "    }\n",
       "\n",
       "    .dataframe thead th {\n",
       "        text-align: right;\n",
       "    }\n",
       "</style>\n",
       "<table border=\"1\" class=\"dataframe\">\n",
       "  <thead>\n",
       "    <tr style=\"text-align: right;\">\n",
       "      <th></th>\n",
       "      <th>Unnamed: 0</th>\n",
       "      <th>zip_code</th>\n",
       "      <th>yelp_rating</th>\n",
       "      <th>price_tag</th>\n",
       "      <th>review_count</th>\n",
       "      <th>lat</th>\n",
       "      <th>lng</th>\n",
       "      <th>name</th>\n",
       "      <th>storeid</th>\n",
       "      <th>Population</th>\n",
       "      <th>Median Age</th>\n",
       "      <th>Household Income</th>\n",
       "      <th>Per Capita Income</th>\n",
       "      <th>Poverty Count</th>\n",
       "      <th>Unemployment</th>\n",
       "      <th>Poverty Rate(%)</th>\n",
       "      <th>Unemployment Rate (%)</th>\n",
       "      <th>price_tag_value</th>\n",
       "    </tr>\n",
       "  </thead>\n",
       "  <tbody>\n",
       "    <tr>\n",
       "      <th>0</th>\n",
       "      <td>0</td>\n",
       "      <td>91210</td>\n",
       "      <td>2.0</td>\n",
       "      <td>$$</td>\n",
       "      <td>41.0</td>\n",
       "      <td>34.1452</td>\n",
       "      <td>-118.2594</td>\n",
       "      <td>Panda Express</td>\n",
       "      <td>1</td>\n",
       "      <td>689</td>\n",
       "      <td>35.2</td>\n",
       "      <td>159500</td>\n",
       "      <td>93135</td>\n",
       "      <td>188</td>\n",
       "      <td>21</td>\n",
       "      <td>27.285922</td>\n",
       "      <td>3.047896</td>\n",
       "      <td>2</td>\n",
       "    </tr>\n",
       "    <tr>\n",
       "      <th>1</th>\n",
       "      <td>1</td>\n",
       "      <td>91210</td>\n",
       "      <td>2.0</td>\n",
       "      <td>$</td>\n",
       "      <td>25.0</td>\n",
       "      <td>34.1451</td>\n",
       "      <td>-118.2589</td>\n",
       "      <td>Panda Express</td>\n",
       "      <td>161</td>\n",
       "      <td>689</td>\n",
       "      <td>35.2</td>\n",
       "      <td>159500</td>\n",
       "      <td>93135</td>\n",
       "      <td>188</td>\n",
       "      <td>21</td>\n",
       "      <td>27.285922</td>\n",
       "      <td>3.047896</td>\n",
       "      <td>1</td>\n",
       "    </tr>\n",
       "    <tr>\n",
       "      <th>3</th>\n",
       "      <td>3</td>\n",
       "      <td>30096</td>\n",
       "      <td>3.5</td>\n",
       "      <td>$</td>\n",
       "      <td>58.0</td>\n",
       "      <td>33.9559</td>\n",
       "      <td>-84.1318</td>\n",
       "      <td>Panda Express</td>\n",
       "      <td>2</td>\n",
       "      <td>67959</td>\n",
       "      <td>35.1</td>\n",
       "      <td>53514</td>\n",
       "      <td>28011</td>\n",
       "      <td>8901</td>\n",
       "      <td>1677</td>\n",
       "      <td>13.097603</td>\n",
       "      <td>2.467664</td>\n",
       "      <td>1</td>\n",
       "    </tr>\n",
       "    <tr>\n",
       "      <th>6</th>\n",
       "      <td>6</td>\n",
       "      <td>94965</td>\n",
       "      <td>3.0</td>\n",
       "      <td>$</td>\n",
       "      <td>67.0</td>\n",
       "      <td>37.8719</td>\n",
       "      <td>-122.5092</td>\n",
       "      <td>Panda Express</td>\n",
       "      <td>3</td>\n",
       "      <td>11408</td>\n",
       "      <td>51.1</td>\n",
       "      <td>103424</td>\n",
       "      <td>83637</td>\n",
       "      <td>1197</td>\n",
       "      <td>243</td>\n",
       "      <td>10.492637</td>\n",
       "      <td>2.130084</td>\n",
       "      <td>1</td>\n",
       "    </tr>\n",
       "    <tr>\n",
       "      <th>7</th>\n",
       "      <td>7</td>\n",
       "      <td>85042</td>\n",
       "      <td>NaN</td>\n",
       "      <td>NaN</td>\n",
       "      <td>NaN</td>\n",
       "      <td>33.3785</td>\n",
       "      <td>-112.0287</td>\n",
       "      <td>Panda Express</td>\n",
       "      <td>4</td>\n",
       "      <td>46570</td>\n",
       "      <td>32.1</td>\n",
       "      <td>53824</td>\n",
       "      <td>23442</td>\n",
       "      <td>8510</td>\n",
       "      <td>1880</td>\n",
       "      <td>18.273567</td>\n",
       "      <td>4.036934</td>\n",
       "      <td></td>\n",
       "    </tr>\n",
       "  </tbody>\n",
       "</table>\n",
       "</div>"
      ],
      "text/plain": [
       "   Unnamed: 0  zip_code  yelp_rating price_tag  review_count      lat  \\\n",
       "0           0     91210          2.0        $$          41.0  34.1452   \n",
       "1           1     91210          2.0         $          25.0  34.1451   \n",
       "3           3     30096          3.5         $          58.0  33.9559   \n",
       "6           6     94965          3.0         $          67.0  37.8719   \n",
       "7           7     85042          NaN       NaN           NaN  33.3785   \n",
       "\n",
       "        lng           name  storeid  Population  Median Age  Household Income  \\\n",
       "0 -118.2594  Panda Express        1         689        35.2            159500   \n",
       "1 -118.2589  Panda Express      161         689        35.2            159500   \n",
       "3  -84.1318  Panda Express        2       67959        35.1             53514   \n",
       "6 -122.5092  Panda Express        3       11408        51.1            103424   \n",
       "7 -112.0287  Panda Express        4       46570        32.1             53824   \n",
       "\n",
       "   Per Capita Income  Poverty Count  Unemployment  Poverty Rate(%)  \\\n",
       "0              93135            188            21        27.285922   \n",
       "1              93135            188            21        27.285922   \n",
       "3              28011           8901          1677        13.097603   \n",
       "6              83637           1197           243        10.492637   \n",
       "7              23442           8510          1880        18.273567   \n",
       "\n",
       "   Unemployment Rate (%) price_tag_value  \n",
       "0               3.047896               2  \n",
       "1               3.047896               1  \n",
       "3               2.467664               1  \n",
       "6               2.130084               1  \n",
       "7               4.036934                  "
      ]
     },
     "execution_count": 20,
     "metadata": {},
     "output_type": "execute_result"
    }
   ],
   "source": [
    "pan_df.head()"
   ]
  },
  {
   "cell_type": "code",
   "execution_count": 34,
   "metadata": {},
   "outputs": [
    {
     "data": {
      "text/plain": [
       "694"
      ]
     },
     "execution_count": 34,
     "metadata": {},
     "output_type": "execute_result"
    }
   ],
   "source": [
    "#Create scatter plots and linear regression pearson -r value to calculate correlation between yelp rating and census data/walk score data.\n",
    "# Remove those rows with NaN yelp rating\n",
    "pan_df=pan_df[pan_df['yelp_rating'].notna()]\n",
    "chip_df=chip_df[chip_df['yelp_rating'].notna()]\n",
    "red_lob_df=red_lob_df[red_lob_df['yelp_rating'].notna()]\n",
    "len(red_lob_df)\n"
   ]
  },
  {
   "cell_type": "code",
   "execution_count": null,
   "metadata": {},
   "outputs": [],
   "source": [
    "### Panda Express linear regression information"
   ]
  },
  {
   "cell_type": "code",
   "execution_count": 72,
   "metadata": {},
   "outputs": [
    {
     "name": "stdout",
     "output_type": "stream",
     "text": [
      "The correlation between both factors is -0.07\n"
     ]
    }
   ],
   "source": [
    "# All panda express yelp ratings compared to population\n",
    "x_pan_pop=pan_df['Population']\n",
    "y_pan=pan_df['yelp_rating']\n",
    "z_pan=pan_df['review_count']\n",
    "#correlation=st.pearsonr(x_pan_pop, y_pan, z_pan)\n",
    "print(f\"The correlation between both factors is {round(correlation[0],2)}\")\n",
    "cp_slope, cp_int, cp_r, vc_p, cp_std_err = st.linregress(x_pan_pop + z_pan, y_pan)\n",
    "cp_fit = cp_slope * x_pan_pop + cp_int\n",
    "\n",
    "# plt.scatter(x_pan_pop,y_pan)\n",
    "# plt.plot(x,cp_fit,\"--\")\n",
    "# plt.xlabel('Population')\n",
    "# plt.ylabel(\"yelp rating\")\n",
    "# plt.title(\"Population by yelp rating\")\n",
    "# plt.show()"
   ]
  },
  {
   "cell_type": "code",
   "execution_count": 43,
   "metadata": {},
   "outputs": [
    {
     "name": "stdout",
     "output_type": "stream",
     "text": [
      "The correlation between both factors is 0.04\n"
     ]
    },
    {
     "ename": "ValueError",
     "evalue": "x and y must have same first dimension, but have shapes (1,) and (1999,)",
     "output_type": "error",
     "traceback": [
      "\u001b[1;31m---------------------------------------------------------------------------\u001b[0m",
      "\u001b[1;31mValueError\u001b[0m                                Traceback (most recent call last)",
      "\u001b[1;32m<ipython-input-43-2ad2496acab3>\u001b[0m in \u001b[0;36m<module>\u001b[1;34m\u001b[0m\n\u001b[0;32m      8\u001b[0m \u001b[1;33m\u001b[0m\u001b[0m\n\u001b[0;32m      9\u001b[0m \u001b[0mplt\u001b[0m\u001b[1;33m.\u001b[0m\u001b[0mscatter\u001b[0m\u001b[1;33m(\u001b[0m\u001b[0mx_pan_age\u001b[0m\u001b[1;33m,\u001b[0m\u001b[0my_pan\u001b[0m\u001b[1;33m)\u001b[0m\u001b[1;33m\u001b[0m\u001b[1;33m\u001b[0m\u001b[0m\n\u001b[1;32m---> 10\u001b[1;33m \u001b[0mplt\u001b[0m\u001b[1;33m.\u001b[0m\u001b[0mplot\u001b[0m\u001b[1;33m(\u001b[0m\u001b[0mx\u001b[0m\u001b[1;33m,\u001b[0m\u001b[0mcp_fit\u001b[0m\u001b[1;33m,\u001b[0m\u001b[1;34m\"--\"\u001b[0m\u001b[1;33m)\u001b[0m\u001b[1;33m\u001b[0m\u001b[1;33m\u001b[0m\u001b[0m\n\u001b[0m\u001b[0;32m     11\u001b[0m \u001b[0mplt\u001b[0m\u001b[1;33m.\u001b[0m\u001b[0mxlabel\u001b[0m\u001b[1;33m(\u001b[0m\u001b[1;34m'Median Age'\u001b[0m\u001b[1;33m)\u001b[0m\u001b[1;33m\u001b[0m\u001b[1;33m\u001b[0m\u001b[0m\n\u001b[0;32m     12\u001b[0m \u001b[0mplt\u001b[0m\u001b[1;33m.\u001b[0m\u001b[0mylabel\u001b[0m\u001b[1;33m(\u001b[0m\u001b[1;34m\"yelp rating\"\u001b[0m\u001b[1;33m)\u001b[0m\u001b[1;33m\u001b[0m\u001b[1;33m\u001b[0m\u001b[0m\n",
      "\u001b[1;32m~\\anaconda3\\envs\\gmaps\\lib\\site-packages\\matplotlib\\pyplot.py\u001b[0m in \u001b[0;36mplot\u001b[1;34m(scalex, scaley, data, *args, **kwargs)\u001b[0m\n\u001b[0;32m   2794\u001b[0m     return gca().plot(\n\u001b[0;32m   2795\u001b[0m         *args, scalex=scalex, scaley=scaley, **({\"data\": data} if data\n\u001b[1;32m-> 2796\u001b[1;33m         is not None else {}), **kwargs)\n\u001b[0m\u001b[0;32m   2797\u001b[0m \u001b[1;33m\u001b[0m\u001b[0m\n\u001b[0;32m   2798\u001b[0m \u001b[1;33m\u001b[0m\u001b[0m\n",
      "\u001b[1;32m~\\anaconda3\\envs\\gmaps\\lib\\site-packages\\matplotlib\\axes\\_axes.py\u001b[0m in \u001b[0;36mplot\u001b[1;34m(self, scalex, scaley, data, *args, **kwargs)\u001b[0m\n\u001b[0;32m   1663\u001b[0m         \"\"\"\n\u001b[0;32m   1664\u001b[0m         \u001b[0mkwargs\u001b[0m \u001b[1;33m=\u001b[0m \u001b[0mcbook\u001b[0m\u001b[1;33m.\u001b[0m\u001b[0mnormalize_kwargs\u001b[0m\u001b[1;33m(\u001b[0m\u001b[0mkwargs\u001b[0m\u001b[1;33m,\u001b[0m \u001b[0mmlines\u001b[0m\u001b[1;33m.\u001b[0m\u001b[0mLine2D\u001b[0m\u001b[1;33m.\u001b[0m\u001b[0m_alias_map\u001b[0m\u001b[1;33m)\u001b[0m\u001b[1;33m\u001b[0m\u001b[1;33m\u001b[0m\u001b[0m\n\u001b[1;32m-> 1665\u001b[1;33m         \u001b[0mlines\u001b[0m \u001b[1;33m=\u001b[0m \u001b[1;33m[\u001b[0m\u001b[1;33m*\u001b[0m\u001b[0mself\u001b[0m\u001b[1;33m.\u001b[0m\u001b[0m_get_lines\u001b[0m\u001b[1;33m(\u001b[0m\u001b[1;33m*\u001b[0m\u001b[0margs\u001b[0m\u001b[1;33m,\u001b[0m \u001b[0mdata\u001b[0m\u001b[1;33m=\u001b[0m\u001b[0mdata\u001b[0m\u001b[1;33m,\u001b[0m \u001b[1;33m**\u001b[0m\u001b[0mkwargs\u001b[0m\u001b[1;33m)\u001b[0m\u001b[1;33m]\u001b[0m\u001b[1;33m\u001b[0m\u001b[1;33m\u001b[0m\u001b[0m\n\u001b[0m\u001b[0;32m   1666\u001b[0m         \u001b[1;32mfor\u001b[0m \u001b[0mline\u001b[0m \u001b[1;32min\u001b[0m \u001b[0mlines\u001b[0m\u001b[1;33m:\u001b[0m\u001b[1;33m\u001b[0m\u001b[1;33m\u001b[0m\u001b[0m\n\u001b[0;32m   1667\u001b[0m             \u001b[0mself\u001b[0m\u001b[1;33m.\u001b[0m\u001b[0madd_line\u001b[0m\u001b[1;33m(\u001b[0m\u001b[0mline\u001b[0m\u001b[1;33m)\u001b[0m\u001b[1;33m\u001b[0m\u001b[1;33m\u001b[0m\u001b[0m\n",
      "\u001b[1;32m~\\anaconda3\\envs\\gmaps\\lib\\site-packages\\matplotlib\\axes\\_base.py\u001b[0m in \u001b[0;36m__call__\u001b[1;34m(self, *args, **kwargs)\u001b[0m\n\u001b[0;32m    223\u001b[0m                 \u001b[0mthis\u001b[0m \u001b[1;33m+=\u001b[0m \u001b[0margs\u001b[0m\u001b[1;33m[\u001b[0m\u001b[1;36m0\u001b[0m\u001b[1;33m]\u001b[0m\u001b[1;33m,\u001b[0m\u001b[1;33m\u001b[0m\u001b[1;33m\u001b[0m\u001b[0m\n\u001b[0;32m    224\u001b[0m                 \u001b[0margs\u001b[0m \u001b[1;33m=\u001b[0m \u001b[0margs\u001b[0m\u001b[1;33m[\u001b[0m\u001b[1;36m1\u001b[0m\u001b[1;33m:\u001b[0m\u001b[1;33m]\u001b[0m\u001b[1;33m\u001b[0m\u001b[1;33m\u001b[0m\u001b[0m\n\u001b[1;32m--> 225\u001b[1;33m             \u001b[1;32myield\u001b[0m \u001b[1;32mfrom\u001b[0m \u001b[0mself\u001b[0m\u001b[1;33m.\u001b[0m\u001b[0m_plot_args\u001b[0m\u001b[1;33m(\u001b[0m\u001b[0mthis\u001b[0m\u001b[1;33m,\u001b[0m \u001b[0mkwargs\u001b[0m\u001b[1;33m)\u001b[0m\u001b[1;33m\u001b[0m\u001b[1;33m\u001b[0m\u001b[0m\n\u001b[0m\u001b[0;32m    226\u001b[0m \u001b[1;33m\u001b[0m\u001b[0m\n\u001b[0;32m    227\u001b[0m     \u001b[1;32mdef\u001b[0m \u001b[0mget_next_color\u001b[0m\u001b[1;33m(\u001b[0m\u001b[0mself\u001b[0m\u001b[1;33m)\u001b[0m\u001b[1;33m:\u001b[0m\u001b[1;33m\u001b[0m\u001b[1;33m\u001b[0m\u001b[0m\n",
      "\u001b[1;32m~\\anaconda3\\envs\\gmaps\\lib\\site-packages\\matplotlib\\axes\\_base.py\u001b[0m in \u001b[0;36m_plot_args\u001b[1;34m(self, tup, kwargs)\u001b[0m\n\u001b[0;32m    389\u001b[0m             \u001b[0mx\u001b[0m\u001b[1;33m,\u001b[0m \u001b[0my\u001b[0m \u001b[1;33m=\u001b[0m \u001b[0mindex_of\u001b[0m\u001b[1;33m(\u001b[0m\u001b[0mtup\u001b[0m\u001b[1;33m[\u001b[0m\u001b[1;33m-\u001b[0m\u001b[1;36m1\u001b[0m\u001b[1;33m]\u001b[0m\u001b[1;33m)\u001b[0m\u001b[1;33m\u001b[0m\u001b[1;33m\u001b[0m\u001b[0m\n\u001b[0;32m    390\u001b[0m \u001b[1;33m\u001b[0m\u001b[0m\n\u001b[1;32m--> 391\u001b[1;33m         \u001b[0mx\u001b[0m\u001b[1;33m,\u001b[0m \u001b[0my\u001b[0m \u001b[1;33m=\u001b[0m \u001b[0mself\u001b[0m\u001b[1;33m.\u001b[0m\u001b[0m_xy_from_xy\u001b[0m\u001b[1;33m(\u001b[0m\u001b[0mx\u001b[0m\u001b[1;33m,\u001b[0m \u001b[0my\u001b[0m\u001b[1;33m)\u001b[0m\u001b[1;33m\u001b[0m\u001b[1;33m\u001b[0m\u001b[0m\n\u001b[0m\u001b[0;32m    392\u001b[0m \u001b[1;33m\u001b[0m\u001b[0m\n\u001b[0;32m    393\u001b[0m         \u001b[1;32mif\u001b[0m \u001b[0mself\u001b[0m\u001b[1;33m.\u001b[0m\u001b[0mcommand\u001b[0m \u001b[1;33m==\u001b[0m \u001b[1;34m'plot'\u001b[0m\u001b[1;33m:\u001b[0m\u001b[1;33m\u001b[0m\u001b[1;33m\u001b[0m\u001b[0m\n",
      "\u001b[1;32m~\\anaconda3\\envs\\gmaps\\lib\\site-packages\\matplotlib\\axes\\_base.py\u001b[0m in \u001b[0;36m_xy_from_xy\u001b[1;34m(self, x, y)\u001b[0m\n\u001b[0;32m    268\u001b[0m         \u001b[1;32mif\u001b[0m \u001b[0mx\u001b[0m\u001b[1;33m.\u001b[0m\u001b[0mshape\u001b[0m\u001b[1;33m[\u001b[0m\u001b[1;36m0\u001b[0m\u001b[1;33m]\u001b[0m \u001b[1;33m!=\u001b[0m \u001b[0my\u001b[0m\u001b[1;33m.\u001b[0m\u001b[0mshape\u001b[0m\u001b[1;33m[\u001b[0m\u001b[1;36m0\u001b[0m\u001b[1;33m]\u001b[0m\u001b[1;33m:\u001b[0m\u001b[1;33m\u001b[0m\u001b[1;33m\u001b[0m\u001b[0m\n\u001b[0;32m    269\u001b[0m             raise ValueError(\"x and y must have same first dimension, but \"\n\u001b[1;32m--> 270\u001b[1;33m                              \"have shapes {} and {}\".format(x.shape, y.shape))\n\u001b[0m\u001b[0;32m    271\u001b[0m         \u001b[1;32mif\u001b[0m \u001b[0mx\u001b[0m\u001b[1;33m.\u001b[0m\u001b[0mndim\u001b[0m \u001b[1;33m>\u001b[0m \u001b[1;36m2\u001b[0m \u001b[1;32mor\u001b[0m \u001b[0my\u001b[0m\u001b[1;33m.\u001b[0m\u001b[0mndim\u001b[0m \u001b[1;33m>\u001b[0m \u001b[1;36m2\u001b[0m\u001b[1;33m:\u001b[0m\u001b[1;33m\u001b[0m\u001b[1;33m\u001b[0m\u001b[0m\n\u001b[0;32m    272\u001b[0m             raise ValueError(\"x and y can be no greater than 2-D, but have \"\n",
      "\u001b[1;31mValueError\u001b[0m: x and y must have same first dimension, but have shapes (1,) and (1999,)"
     ]
    },
    {
     "data": {
      "image/png": "[encoded data removed]",
      "text/plain": [
       "<Figure size 432x288 with 1 Axes>"
      ]
     },
     "metadata": {
      "needs_background": "light"
     },
     "output_type": "display_data"
    }
   ],
   "source": [
    "# All panda express yelp ratings compared to median aga\n",
    "x_pan_age=pan_df['Median Age']\n",
    "y_pan=pan_df['yelp_rating']\n",
    "correlation=st.pearsonr(x_pan_age, y_pan)\n",
    "print(f\"The correlation between both factors is {round(correlation[0],2)}\")\n",
    "# cp_slope, cp_int, cp_r, vc_p, cp_std_err = st.linregress(x_pan_age, y_pan)\n",
    "# cp_fit = cp_slope * x_pan_age + cp_int\n",
    "\n",
    "# plt.scatter(x_pan_age,y_pan)\n",
    "# plt.plot(x,cp_fit,\"--\")\n",
    "# plt.xlabel('Median Age')\n",
    "# plt.ylabel(\"yelp rating\")\n",
    "# plt.title(\"Yelp rating by Median age\")\n",
    "# plt.show()"
   ]
  },
  {
   "cell_type": "code",
   "execution_count": 45,
   "metadata": {},
   "outputs": [
    {
     "name": "stdout",
     "output_type": "stream",
     "text": [
      "The correlation between both factors is 0.02\n"
     ]
    }
   ],
   "source": [
    "# All panda express yelp ratings compared to Household income\n",
    "x_pan_hi=pan_df['Household Income']\n",
    "y_pan=pan_df['yelp_rating']\n",
    "correlation=st.pearsonr(x_pan_hi, y_pan)\n",
    "print(f\"The correlation between both factors is {round(correlation[0],2)}\")\n",
    "# cp_slope, cp_int, cp_r, vc_p, cp_std_err = st.linregress(x_pan_hi, y_pan)\n",
    "# cp_fit = cp_slope * x_pan_hi + cp_int\n",
    "\n",
    "# plt.scatter(x_pan_hi,y_pan)\n",
    "# plt.plot(x,cp_fit,\"--\")\n",
    "# plt.xlabel('Household income')\n",
    "# plt.ylabel(\"yelp rating\")\n",
    "# plt.title(\"Yelp rating by Household income\")\n",
    "# plt.show()"
   ]
  },
  {
   "cell_type": "code",
   "execution_count": 46,
   "metadata": {},
   "outputs": [
    {
     "name": "stdout",
     "output_type": "stream",
     "text": [
      "The correlation between both factors is 0.08\n"
     ]
    }
   ],
   "source": [
    "# All panda express yelp ratings compared to per capita income\n",
    "x_pan_pci=pan_df['Per Capita Income']\n",
    "y_pan=pan_df['yelp_rating']\n",
    "correlation=st.pearsonr(x_pan_pci, y_pan)\n",
    "print(f\"The correlation between both factors is {round(correlation[0],2)}\")\n",
    "# cp_slope, cp_int, cp_r, vc_p, cp_std_err = st.linregress(x_pan_pci, y_pan)\n",
    "# cp_fit = cp_slope * x_pan_pci + cp_int\n",
    "\n",
    "# plt.scatter(x_pan_pci,y_pan)\n",
    "# plt.plot(x,cp_fit,\"--\")\n",
    "# plt.xlabel('Per Capita Income')\n",
    "# plt.ylabel(\"yelp rating\")\n",
    "# plt.title(\"Yelp rating by Per Capita Income\")\n",
    "# plt.show()"
   ]
  },
  {
   "cell_type": "code",
   "execution_count": 47,
   "metadata": {},
   "outputs": [
    {
     "name": "stdout",
     "output_type": "stream",
     "text": [
      "The correlation between both factors is -0.04\n"
     ]
    }
   ],
   "source": [
    "# All panda express yelp ratings compared to poverty rate\n",
    "x_pan_pov=pan_df['Poverty Rate(%)']\n",
    "y_pan=pan_df['yelp_rating']\n",
    "correlation=st.pearsonr(x_pan_pov, y_pan)\n",
    "print(f\"The correlation between both factors is {round(correlation[0],2)}\")\n",
    "# cp_slope, cp_int, cp_r, vc_p, cp_std_err = st.linregress(x_pan_pov, y_pan)\n",
    "# cp_fit = cp_slope * x_pan_pov + cp_int\n",
    "\n",
    "# plt.scatter(x_pan_pci,y_pan)\n",
    "# plt.plot(x,cp_fit,\"--\")\n",
    "# plt.xlabel('Poverty rate')\n",
    "# plt.ylabel(\"yelp rating\")\n",
    "# plt.title(\"Yelp rating by Poverty rate\")\n",
    "# plt.show()"
   ]
  },
  {
   "cell_type": "code",
   "execution_count": 49,
   "metadata": {},
   "outputs": [
    {
     "name": "stdout",
     "output_type": "stream",
     "text": [
      "The correlation between both factors is -0.04\n"
     ]
    }
   ],
   "source": [
    "# All panda express yelp ratings compared to unemployement rate\n",
    "x_pan_unem=pan_df['Unemployment Rate (%)']\n",
    "y_pan=pan_df['yelp_rating']\n",
    "correlation=st.pearsonr(x_pan_unem, y_pan)\n",
    "print(f\"The correlation between both factors is {round(correlation[0],2)}\")\n",
    "# cp_slope, cp_int, cp_r, vc_p, cp_std_err = st.linregress(x_pan_unem, y_pan)\n",
    "# cp_fit = cp_slope * x_pan_unem + cp_int\n",
    "\n",
    "# plt.scatter(x_pan_unem,y_pan)\n",
    "# plt.plot(x,cp_fit,\"--\")\n",
    "# plt.xlabel('Unemployement Rate')\n",
    "# plt.ylabel(\"yelp rating\")\n",
    "# plt.title(\"Yelp rating by Unemployement rate\")\n",
    "# plt.show()"
   ]
  },
  {
   "cell_type": "code",
   "execution_count": null,
   "metadata": {},
   "outputs": [],
   "source": [
    "### Chipotle linear regression analysis"
   ]
  },
  {
   "cell_type": "code",
   "execution_count": 51,
   "metadata": {},
   "outputs": [
    {
     "name": "stdout",
     "output_type": "stream",
     "text": [
      "The correlation between both factors is -0.05\n"
     ]
    }
   ],
   "source": [
    "#chipotle rating and population\n",
    "x_chip_pop=chip_df['Population']\n",
    "y_chip=chip_df['yelp_rating']\n",
    "correlation=st.pearsonr(x_chip_pop, y_chip)\n",
    "print(f\"The correlation between both factors is {round(correlation[0],2)}\")\n",
    "# cp_slope, cp_int, cp_r, vc_p, cp_std_err = st.linregress(x_chip_pop, y_chip)\n",
    "# cp_fit = cp_slope * x_chip_pop + cp_int\n",
    "\n",
    "# plt.scatter(x_chip_pop,y_chip)\n",
    "# plt.plot(x,cp_fit,\"--\")\n",
    "# plt.xlabel('Population')\n",
    "# plt.ylabel(\"yelp rating\")\n",
    "# plt.title(\"Population by yelp rating\")\n",
    "# plt.show()"
   ]
  },
  {
   "cell_type": "code",
   "execution_count": 52,
   "metadata": {},
   "outputs": [
    {
     "name": "stdout",
     "output_type": "stream",
     "text": [
      "The correlation between both factors is -0.03\n"
     ]
    }
   ],
   "source": [
    "# All chipotle express yelp ratings compared to median ag\n",
    "x_chip_age=chip_df['Median Age']\n",
    "y_chip=chip_df['yelp_rating']\n",
    "correlation=st.pearsonr(x_chip_age, y_chip)\n",
    "print(f\"The correlation between both factors is {round(correlation[0],2)}\")\n",
    "# cp_slope, cp_int, cp_r, vc_p, cp_std_err = st.linregress(x_chip_age, y_chip)\n",
    "# cp_fit = cp_slope * x_chip_age + cp_int\n",
    "\n",
    "# plt.scatter(x_chip_age,y_chip)\n",
    "# plt.plot(x,cp_fit,\"--\")\n",
    "# plt.xlabel('Median Age')\n",
    "# plt.ylabel(\"yelp rating\")\n",
    "# plt.title(\"Yelp rating by Median age\")\n",
    "# plt.show()"
   ]
  },
  {
   "cell_type": "code",
   "execution_count": 53,
   "metadata": {},
   "outputs": [
    {
     "name": "stdout",
     "output_type": "stream",
     "text": [
      "The correlation between both factors is -0.15\n"
     ]
    }
   ],
   "source": [
    "# All chipotle express yelp ratings compared to Household income\n",
    "x_chip_hi=chip_df['Household Income']\n",
    "y_chip=chip_df['yelp_rating']\n",
    "correlation=st.pearsonr(x_chip_hi, y_chip)\n",
    "print(f\"The correlation between both factors is {round(correlation[0],2)}\")\n",
    "# cp_slope, cp_int, cp_r, vc_p, cp_std_err = st.linregress(x_chip_hi, y_chip)\n",
    "# cp_fit = cp_slope * x_chip_hi + cp_int\n",
    "\n",
    "# plt.scatter(x_chip_hi,y_chip)\n",
    "# plt.plot(x,cp_fit,\"--\")\n",
    "# plt.xlabel('Household income')\n",
    "# plt.ylabel(\"yelp rating\")\n",
    "# plt.title(\"Yelp rating by Household income\")\n",
    "# plt.show()"
   ]
  },
  {
   "cell_type": "code",
   "execution_count": 54,
   "metadata": {},
   "outputs": [
    {
     "name": "stdout",
     "output_type": "stream",
     "text": [
      "The correlation between both factors is -0.08\n"
     ]
    }
   ],
   "source": [
    "# All chipotle express yelp ratings compared to per capita income\n",
    "x_chip_pci=chip_df['Per Capita Income']\n",
    "y_chip=chip_df['yelp_rating']\n",
    "correlation=st.pearsonr(x_chip_pci, y_chip)\n",
    "print(f\"The correlation between both factors is {round(correlation[0],2)}\")\n",
    "# cp_slope, cp_int, cp_r, vc_p, cp_std_err = st.linregress(x_chip_pci, y_chip)\n",
    "# cp_fit = cp_slope * x_chip_pci + cp_int\n",
    "\n",
    "# plt.scatter(x_chip_pci,y_chip)\n",
    "# plt.plot(x,cp_fit,\"--\")\n",
    "# plt.xlabel('Per Capita Income')\n",
    "# plt.ylabel(\"yelp rating\")\n",
    "# plt.title(\"Yelp rating by Per Capita Income\")\n",
    "# plt.show()"
   ]
  },
  {
   "cell_type": "code",
   "execution_count": 55,
   "metadata": {},
   "outputs": [
    {
     "name": "stdout",
     "output_type": "stream",
     "text": [
      "The correlation between both factors is 0.09\n"
     ]
    }
   ],
   "source": [
    "# All chipotle express yelp ratings compared to poverty rate\n",
    "x_chip_pov=chip_df['Poverty Rate(%)']\n",
    "y_chip=chip_df['yelp_rating']\n",
    "correlation=st.pearsonr(x_chip_pov, y_chip)\n",
    "print(f\"The correlation between both factors is {round(correlation[0],2)}\")\n",
    "# cp_slope, cp_int, cp_r, vc_p, cp_std_err = st.linregress(x_chip_pov, y_chip)\n",
    "# cp_fit = cp_slope * x_chip_pov + cp_int\n",
    "\n",
    "# plt.scatter(x_chip_pci,y_chip)\n",
    "# plt.plot(x,cp_fit,\"--\")\n",
    "# plt.xlabel('Poverty rate')\n",
    "# plt.ylabel(\"yelp rating\")\n",
    "# plt.title(\"Yelp rating by Poverty rate\")\n",
    "# plt.show()"
   ]
  },
  {
   "cell_type": "code",
   "execution_count": 56,
   "metadata": {},
   "outputs": [
    {
     "name": "stdout",
     "output_type": "stream",
     "text": [
      "The correlation between both factors is -0.04\n"
     ]
    }
   ],
   "source": [
    "# All chipotle express yelp ratings compared to unemployement rate\n",
    "x_chip_unem=chip_df['Unemployment Rate (%)']\n",
    "y_chip=chip_df['yelp_rating']\n",
    "correlation=st.pearsonr(x_chip_unem, y_chip)\n",
    "print(f\"The correlation between both factors is {round(correlation[0],2)}\")\n",
    "# cp_slope, cp_int, cp_r, vc_p, cp_std_err = st.linregress(x_chip_unem, y_chip)\n",
    "# cp_fit = cp_slope * x_chip_unem + cp_int\n",
    "\n",
    "# plt.scatter(x_chip_unem,y_chip)\n",
    "# plt.plot(x,cp_fit,\"--\")\n",
    "# plt.xlabel('Unemployement Rate')\n",
    "# plt.ylabel(\"yelp rating\")\n",
    "# plt.title(\"Yelp rating by Unemployement rate\")\n",
    "# plt.show()"
   ]
  },
  {
   "cell_type": "code",
   "execution_count": null,
   "metadata": {},
   "outputs": [],
   "source": [
    "### Comparison for red lobster chain"
   ]
  },
  {
   "cell_type": "code",
   "execution_count": 57,
   "metadata": {},
   "outputs": [
    {
     "name": "stdout",
     "output_type": "stream",
     "text": [
      "The correlation between both factors is -0.04\n"
     ]
    }
   ],
   "source": [
    "# All red lobster yelp ratings compared to population\n",
    "x_red_lob_pop=red_lob_df['Population']\n",
    "y_red_lob=red_lob_df['yelp_rating']\n",
    "correlation=st.pearsonr(x_red_lob_pop, y_red_lob)\n",
    "print(f\"The correlation between both factors is {round(correlation[0],2)}\")\n",
    "# cp_slope, cp_int, cp_r, vc_p, cp_std_err = st.linregress(x_red_lob_pop, y_red_lob)\n",
    "# cp_fit = cp_slope * x_red_lob_pop + cp_int\n",
    "\n",
    "# plt.scatter(x_red_lob_pop,y_red_lob)\n",
    "# plt.plot(x,cp_fit,\"--\")\n",
    "# plt.xlabel('Population')\n",
    "# plt.ylabel(\"yelp rating\")\n",
    "# plt.title(\"Population by yelp rating\")\n",
    "# plt.show()"
   ]
  },
  {
   "cell_type": "code",
   "execution_count": 58,
   "metadata": {},
   "outputs": [
    {
     "name": "stdout",
     "output_type": "stream",
     "text": [
      "The correlation between both factors is 0.08\n"
     ]
    }
   ],
   "source": [
    "# All red lobster express yelp ratings compared to median age\n",
    "x_red_lob_age=red_lob_df['Median Age']\n",
    "y_red_lob=red_lob_df['yelp_rating']\n",
    "correlation=st.pearsonr(x_red_lob_age, y_red_lob)\n",
    "print(f\"The correlation between both factors is {round(correlation[0],2)}\")\n",
    "# cp_slope, cp_int, cp_r, vc_p, cp_std_err = st.linregress(x_red_lob_age, y_red_lob)\n",
    "# cp_fit = cp_slope * x_red_lob_age + cp_int\n",
    "\n",
    "# plt.scatter(x_red_lob_age,y_red_lob)\n",
    "# plt.plot(x,cp_fit,\"--\")\n",
    "# plt.xlabel('Median Age')\n",
    "# plt.ylabel(\"yelp rating\")\n",
    "# plt.title(\"Yelp rating by Median age\")\n",
    "# plt.show()"
   ]
  },
  {
   "cell_type": "code",
   "execution_count": 60,
   "metadata": {},
   "outputs": [
    {
     "name": "stdout",
     "output_type": "stream",
     "text": [
      "The correlation between both factors is -0.05\n"
     ]
    }
   ],
   "source": [
    "# All red_lobotle express yelp ratings compared to Household income\n",
    "x_red_lob_hi=red_lob_df['Household Income']\n",
    "y_red_lob=red_lob_df['yelp_rating']\n",
    "correlation=st.pearsonr(x_red_lob_hi, y_red_lob)\n",
    "print(f\"The correlation between both factors is {round(correlation[0],2)}\")\n",
    "# cp_slope, cp_int, cp_r, vc_p, cp_std_err = st.linregress(x_red_lob_hi, y_red_lob)\n",
    "# cp_fit = cp_slope * x_red_lob_hi + cp_int\n",
    "\n",
    "# plt.scatter(x_red_lob_hi,y_red_lob)\n",
    "# plt.plot(x,cp_fit,\"--\")\n",
    "# plt.xlabel('Household income')\n",
    "# plt.ylabel(\"yelp rating\")\n",
    "# plt.title(\"Yelp rating by Household income\")\n",
    "# plt.show()"
   ]
  },
  {
   "cell_type": "code",
   "execution_count": 61,
   "metadata": {},
   "outputs": [
    {
     "name": "stdout",
     "output_type": "stream",
     "text": [
      "The correlation between both factors is -0.01\n"
     ]
    }
   ],
   "source": [
    "# All red lobster yelp ratings compared to per capita income\n",
    "x_red_lob_pci=red_lob_df['Per Capita Income']\n",
    "y_red_lob=red_lob_df['yelp_rating']\n",
    "correlation=st.pearsonr(x_red_lob_pci, y_red_lob)\n",
    "print(f\"The correlation between both factors is {round(correlation[0],2)}\")\n",
    "# cp_slope, cp_int, cp_r, vc_p, cp_std_err = st.linregress(x_red_lob_pci, y_red_lob)\n",
    "# cp_fit = cp_slope * x_red_lob_pci + cp_int\n",
    "\n",
    "# plt.scatter(x_red_lob_pci,y_red_lob)\n",
    "# plt.plot(x,cp_fit,\"--\")\n",
    "# plt.xlabel('Per Capita Income')\n",
    "# plt.ylabel(\"yelp rating\")\n",
    "# plt.title(\"Yelp rating by Per Capita Income\")\n",
    "# plt.show()"
   ]
  },
  {
   "cell_type": "code",
   "execution_count": 62,
   "metadata": {},
   "outputs": [
    {
     "name": "stdout",
     "output_type": "stream",
     "text": [
      "The correlation between both factors is -0.02\n"
     ]
    }
   ],
   "source": [
    "# All red lobster yelp ratings compared to poverty rate\n",
    "x_red_lob_pov=red_lob_df['Poverty Rate(%)']\n",
    "y_red_lob=red_lob_df['yelp_rating']\n",
    "correlation=st.pearsonr(x_red_lob_pov, y_red_lob)\n",
    "print(f\"The correlation between both factors is {round(correlation[0],2)}\")\n",
    "# cp_slope, cp_int, cp_r, vc_p, cp_std_err = st.linregress(x_red_lob_pov, y_red_lob)\n",
    "# cp_fit = cp_slope * x_red_lob_pov + cp_int\n",
    "\n",
    "# plt.scatter(x_red_lob_pci,y_red_lob)\n",
    "# plt.plot(x,cp_fit,\"--\")\n",
    "# plt.xlabel('Poverty rate')\n",
    "# plt.ylabel(\"yelp rating\")\n",
    "# plt.title(\"Yelp rating by Poverty rate\")\n",
    "# plt.show()"
   ]
  },
  {
   "cell_type": "code",
   "execution_count": 63,
   "metadata": {},
   "outputs": [
    {
     "name": "stdout",
     "output_type": "stream",
     "text": [
      "The correlation between both factors is -0.07\n"
     ]
    }
   ],
   "source": [
    "# All red lobster yelp ratings compared to unemployement rate\n",
    "x_red_lob_unem=red_lob_df['Unemployment Rate (%)']\n",
    "y_red_lob=red_lob_df['yelp_rating']\n",
    "correlation=st.pearsonr(x_red_lob_unem, y_red_lob)\n",
    "print(f\"The correlation between both factors is {round(correlation[0],2)}\")\n",
    "# cp_slope, cp_int, cp_r, vc_p, cp_std_err = st.linregress(x_red_lob_unem, y_red_lob)\n",
    "# cp_fit = cp_slope * x_red_lob_unem + cp_int\n",
    "\n",
    "# plt.scatter(x_red_lob_unem,y_red_lob)\n",
    "# plt.plot(x,cp_fit,\"--\")\n",
    "# plt.xlabel('Unemployement Rate')\n",
    "# plt.ylabel(\"yelp rating\")\n",
    "# plt.title(\"Yelp rating by Unemployement rate\")\n",
    "# plt.show()"
   ]
  },
  {
   "cell_type": "code",
   "execution_count": null,
   "metadata": {},
   "outputs": [],
   "source": []
  }
 ],
 "metadata": {
  "anaconda-cloud": {},
  "kernelspec": {
   "display_name": "Python [conda env:gmaps] *",
   "language": "python",
   "name": "conda-env-gmaps-py"
  },
  "language_info": {
   "codemirror_mode": {
    "name": "ipython",
    "version": 3
   },
   "file_extension": ".py",
   "mimetype": "text/x-python",
   "name": "python",
   "nbconvert_exporter": "python",
   "pygments_lexer": "ipython3",
   "version": "3.7.7"
  },
  "latex_envs": {
   "LaTeX_envs_menu_present": true,
   "autoclose": false,
   "autocomplete": true,
   "bibliofile": "biblio.bib",
   "cite_by": "apalike",
   "current_citInitial": 1,
   "eqLabelWithNumbers": true,
   "eqNumInitial": 1,
   "hotkeys": {
    "equation": "Ctrl-E",
    "itemize": "Ctrl-I"
   },
   "labels_anchors": false,
   "latex_user_defs": false,
   "report_style_numbering": false,
   "user_envs_cfg": false
  }
 },
 "nbformat": 4,
 "nbformat_minor": 4
}
